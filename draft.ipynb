{
 "cells": [
  {
   "cell_type": "markdown",
   "metadata": {},
   "source": [
    "Pressure Loss calculation"
   ]
  },
  {
   "cell_type": "code",
   "execution_count": null,
   "metadata": {},
   "outputs": [],
   "source": [
    "from lib.constants import Calculations\n",
    "from lib.topdrive import vel_acc\n",
    "from lib.circulation import circl\n",
    "from scipy.integrate import solve_ivp\n",
    "import numpy as np\n",
    "\n",
    "clc = Calculations(depth=13000)\n",
    "num_t_step = int(clc.run_time / 0.1)  # time step size\n",
    "clc.run_time\n",
    "times = np.linspace(0, clc.run_time, num_t_step)\n",
    "forces_over_time = np.zeros((int(num_t_step), len(clc.MD)))  # Store force profiles over time"
   ]
  },
  {
   "cell_type": "code",
   "execution_count": null,
   "metadata": {},
   "outputs": [],
   "source": [
    "from lib.constants import Calculations\n",
    "from lib.topdrive import vel_acc\n",
    "from lib.circulation import circl\n",
    "from scipy.integrate import solve_ivp\n",
    "import numpy as np\n",
    "\n",
    "\n",
    "def trip_operation(F_b, flowrate, length, operation='POOH'):\n",
    "    clc = Calculations(depth=length)\n",
    "    num_t_step = int(clc.run_time / 0.1)  # time step size\n",
    "    times = np.linspace(0, clc.run_time, num_t_step)\n",
    "    forces_over_time = np.zeros((num_t_step, len(clc.MD)))  # Store force profiles over time\n",
    "\n",
    "    for idx, time in enumerate(times):\n",
    "        fluid_force = circl(flowrate, length) if flowrate != 0 else np.zeros_like(clc.MD[:-1])\n",
    "\n",
    "        def dFds(s, F):\n",
    "            # Current velocity and acceleration\n",
    "            velocity, acceleration = vel_acc(time)\n",
    "            \n",
    "            # Interpolate spatial parameters\n",
    "            DLS_interp = np.interp(s, clc.MD[:-1], clc.DLS)\n",
    "            n_z_interp = np.interp(s, clc.MD[:-1], clc.n_z)\n",
    "            b_z_interp = np.interp(s, clc.MD[:-1], clc.b_z)\n",
    "            t_z_interp = np.interp(s, clc.MD[:-1], clc.t_z)\n",
    "            bw_pipe_interp = np.interp(s, clc.MD[:-1], clc.bw_pipe)\n",
    "            fluid_interp = np.interp(s, clc.MD[:-1], fluid_force)\n",
    "            velocity_interp = np.interp(s, clc.MD[:-1], velocity)\n",
    "            acceleration_interp = np.interp(s, clc.MD[:-1], acceleration)\n",
    "            \n",
    "\n",
    "            # Additional terms\n",
    "            term1 = np.pi/4*(clc.global_od_array**2 - clc.global_id_array**2)*clc.pipe_density*velocity_interp**2\n",
    "            term2 = np.pi/4*(clc.global_od_array**2 - clc.global_id_array**2)*clc.pipe_density*acceleration_interp\n",
    "            \n",
    "            # Calculate the contact force\n",
    "            # w_c = np.sqrt((F * DLS_interp + bw_pipe_interp * n_z_interp)**2 + (bw_pipe_interp * b_z_interp)**2)\n",
    "\n",
    "            if operation == 'POOH':\n",
    "                w_c = np.sqrt((F * DLS_interp + bw_pipe_interp * n_z_interp - term1)**2 + (bw_pipe_interp * b_z_interp)**2)\n",
    "                return -(bw_pipe_interp*t_z_interp + clc.ff*w_c + fluid_interp + term2)\n",
    "            elif operation == 'RIH':\n",
    "                w_c = np.sqrt((F * DLS_interp + bw_pipe_interp * n_z_interp + term1)**2 + (bw_pipe_interp * b_z_interp)**2)\n",
    "                return -(bw_pipe_interp*t_z_interp - clc.ff*w_c + fluid_interp + term2)\n",
    "            elif operation == 'ROB':\n",
    "                return -(bw_pipe_interp*t_z_interp + fluid_interp)\n",
    "            else:\n",
    "                raise ValueError(\"Unknown operation type specified.\")\n",
    "\n",
    "        # Spatial integration\n",
    "        s_span = [clc.MD[-1], clc.MD[0]]  # from bottom to top\n",
    "        solution = solve_ivp(dFds, s_span, [F_b], method='RK45', t_eval=np.flip(clc.MD))\n",
    "\n",
    "        # Store the computed force profile at this time step\n",
    "        forces_over_time[idx] = solution.y.flatten()\n",
    "\n",
    "    return times, forces_over_time\n"
   ]
  },
  {
   "cell_type": "code",
   "execution_count": null,
   "metadata": {},
   "outputs": [],
   "source": [
    "\n",
    "# Call the function with the appropriate parameters\n",
    "times, forces_over_time = trip_operation(F_b=0, flowrate=0, length=13000, operation='POOH')"
   ]
  },
  {
   "cell_type": "code",
   "execution_count": null,
   "metadata": {},
   "outputs": [],
   "source": []
  },
  {
   "cell_type": "code",
   "execution_count": null,
   "metadata": {},
   "outputs": [],
   "source": [
    "from lib.constants import Calculations\n",
    "from lib.topdrive import vel_acc\n",
    "from lib.circulation import circl\n",
    "from scipy.integrate import solve_ivp\n",
    "import numpy as np\n",
    "\n",
    "length = 13000\n",
    "flowrate = 0\n",
    "\n",
    "clc = Calculations(depth=length)\n",
    "fluid_force = circl(flowrate, length) if flowrate != 0 else np.zeros_like(clc.MD[:-1])\n",
    "\n",
    "def dFds(s, F, velocity, acceleration):\n",
    "    # Interpolate the necessary values for the current s\n",
    "    DLS_interp = np.interp(s, clc.MD[:-1], clc.DLS)\n",
    "    n_z_interp = np.interp(s, clc.MD[:-1], clc.n_z)\n",
    "    b_z_interp = np.interp(s, clc.MD[:-1], clc.b_z)\n",
    "    t_z_interp = np.interp(s, clc.MD[:-1], clc.t_z)\n",
    "    bw_pipe_interp = np.interp(s, clc.MD[:-1], clc.bw_pipe)\n",
    "    fluid_interp = np.interp(s, clc.MD[:-1], fluid_force)\n",
    "\n",
    "    # Calculate the contact force with new dynamic terms\n",
    "    w_c = np.sqrt((F * DLS_interp + bw_pipe_interp * n_z_interp - clc.pipe_density * np.pi*(clc.global_hole_array**2 - clc.global_od_array**2)/4 * velocity**2)**2 + (bw_pipe_interp * b_z_interp)**2)\n",
    "    dynamic_term = clc.pipe_density * np.pi*(clc.global_hole_array**2 - clc.global_od_array**2)/4 * acceleration\n",
    "    return -(bw_pipe_interp*t_z_interp + clc.ff*w_c + fluid_interp) - dynamic_term\n",
    "\n",
    "def dFdt(F_initial, spatial_domain, velocities, accelerations):\n",
    "    \"\"\" Solve the spatial domain at each time point \"\"\"\n",
    "    hookload_over_time = []\n",
    "    for i, _ in enumerate(times):\n",
    "        # Call the ODE solver for each time step with corresponding velocity and acceleration\n",
    "        sol = solve_ivp(lambda s, F: dFds(s, F, velocities[i], accelerations[i]),\n",
    "                        spatial_domain, F_initial, method='RK45')\n",
    "        hookload_over_time.append(sol.y[-1][-1])  # Append the last value (force at the top)\n",
    "    return hookload_over_time\n",
    "\n",
    "# Spatial and time domains\n",
    "spatial_domain = [clc.MD[-1], clc.MD[0]]\n",
    "times = np.linspace(0, 10, 100)\n",
    "F_initial = [0]\n",
    "\n",
    "# Precompute or define velocity and acceleration functions\n",
    "velocities, accelerations = vel_acc(times)\n",
    "\n",
    "# Solve for each time step\n",
    "hookload_over_time = dFdt(F_initial=F_initial, spatial_domain=spatial_domain, velocities=velocities, accelerations=accelerations)\n",
    "\n",
    "print(\"Hookload values over time:\", hookload_over_time)\n"
   ]
  },
  {
   "cell_type": "markdown",
   "metadata": {},
   "source": [
    "New version BELOW"
   ]
  },
  {
   "cell_type": "code",
   "execution_count": 1,
   "metadata": {},
   "outputs": [
    {
     "name": "stderr",
     "output_type": "stream",
     "text": [
      "c:\\Users\\elmir.hamidov\\AppData\\Local\\anaconda3\\Lib\\site-packages\\openpyxl\\worksheet\\_read_only.py:79: UserWarning: Web Extension extension is not supported and will be removed\n",
      "  for idx, row in parser.parse():\n"
     ]
    }
   ],
   "source": [
    "from lib.constants import Calculations\n",
    "from lib.topdrive import vel_acc\n",
    "from lib.circulation import circl\n",
    "from lib.init_xls import get_area\n",
    "from scipy.integrate import solve_ivp\n",
    "from scipy.interpolate import interp1d\n",
    "import numpy as np\n",
    "\n",
    "length = 13000\n",
    "flowrate = 0\n",
    "\n",
    "clc = Calculations(depth=length)\n",
    "fluid_force = circl(flowrate, length) if flowrate != 0 else np.zeros_like(clc.MD[:-1])\n"
   ]
  },
  {
   "cell_type": "code",
   "execution_count": 4,
   "metadata": {},
   "outputs": [],
   "source": [
    "def trip_operation(F_b, flowrate, length, operation='POOH'):\n",
    "    clc = Calculations(depth=length)\n",
    "    fluid_force = circl(flowrate, length) if flowrate != 0 else np.zeros_like(clc.MD[:-1])\n",
    "\n",
    "    def dFds(s, F, velocity, acceleration):\n",
    "        cross_area = np.pi*(clc.global_hole_array**2 - clc.global_od_array**2)/4\n",
    "        \n",
    "        # Interpolate the necessary values for the current s\n",
    "        DLS_interp = np.interp(s, clc.MD[:-1], clc.DLS)\n",
    "        n_z_interp = np.interp(s, clc.MD[:-1], clc.n_z)\n",
    "        b_z_interp = np.interp(s, clc.MD[:-1], clc.b_z)\n",
    "        t_z_interp = np.interp(s, clc.MD[:-1], clc.t_z)\n",
    "        bw_pipe_interp = np.interp(s, clc.MD[:-1], clc.bw_pipe)\n",
    "        fluid_interp = np.interp(s, clc.MD[:-1], fluid_force)\n",
    "\n",
    "        # Calculate the contact force with new dynamic terms\n",
    "        vel_term = 12/231*clc.pipe_density * get_area(s, clc.MD, cross_area) * velocity**2                       # Velocity term\n",
    "        acc_term = 12/231*clc.pipe_density * get_area(s, clc.MD, cross_area) * acceleration                      # Acceleration term\n",
    "        w_c = np.sqrt((F * DLS_interp + bw_pipe_interp * n_z_interp - vel_term)**2 + (bw_pipe_interp * b_z_interp)**2)\n",
    "\n",
    "        if operation == 'POOH':\n",
    "            return -(bw_pipe_interp*t_z_interp + clc.ff*w_c + fluid_interp + acc_term)\n",
    "        elif operation == 'RIH':\n",
    "            return -(bw_pipe_interp*t_z_interp - clc.ff*w_c + fluid_interp + acc_term)\n",
    "        elif operation == 'ROB':\n",
    "            return -(bw_pipe_interp*t_z_interp + fluid_interp)\n",
    "        else:\n",
    "            raise ValueError(\"Unknown operation type specified.\")\n",
    "\n",
    "    s_span = [clc.MD[-1], clc.MD[0]]  # Span from the end to the start\n",
    "        \n",
    "    if operation == 'POOH':\n",
    "        times = np.arange(0, clc.a3, 0.5)           # Time domain\n",
    "        vel, acc = vel_acc(times, clc)                   # Computing velocity and acceleration\n",
    "        \n",
    "    elif operation == 'RIH':\n",
    "        times = np.arange(clc.a3, clc.a6, 0.5)      # Time domain\n",
    "        vel, acc = vel_acc(times, clc)                   # Computing velocity and acceleration\n",
    "\n",
    "    elif operation == 'ROB':\n",
    "        times = np.arange(0, 30, 0.5)               # Time domain\n",
    "        vel, acc = (\n",
    "            np.zeros(len(times)), \n",
    "            np.zeros(len(times))\n",
    "            )                                       # Computing velocity and acceleration\n",
    "    else:\n",
    "        raise ValueError(\"Unknown operation type specified.\")\n",
    "    \n",
    "    sol = [solve_ivp(dFds, \n",
    "                    s_span, \n",
    "                    [F_b], \n",
    "                    args=(vel[i], acc[i]), \n",
    "                    method='RK45', \n",
    "                    t_eval=np.flip(clc.MD),\n",
    "                    max_step=10,\n",
    "                    rtol=0.001,\n",
    "                    atol=0.001,\n",
    "                    dense_output=True\n",
    "                    ).y.flatten()[-1] for i,_ in enumerate(times)]\n",
    "    \n",
    "    return sol"
   ]
  },
  {
   "cell_type": "code",
   "execution_count": 59,
   "metadata": {},
   "outputs": [],
   "source": [
    "# def dFds(s, F, velocity, acceleration):\n",
    "#     cross_area = np.pi*(clc.global_od_array**2 - clc.global_id_array**2)/4\n",
    "    \n",
    "#     # Interpolate the necessary values for the current s\n",
    "#     DLS_interp = np.interp(s, clc.MD[:-1], clc.DLS)\n",
    "#     n_z_interp = np.interp(s, clc.MD[:-1], clc.n_z)\n",
    "#     b_z_interp = np.interp(s, clc.MD[:-1], clc.b_z)\n",
    "#     t_z_interp = np.interp(s, clc.MD[:-1], clc.t_z)\n",
    "#     bw_pipe_interp = np.interp(s, clc.MD[:-1], clc.bw_pipe)\n",
    "#     fluid_interp = np.interp(s, clc.MD[:-1], fluid_force)\n",
    "\n",
    "#     # Calculate the contact force with new dynamic terms\n",
    "#     vel_term = 12/231*clc.pipe_density * get_area(s, clc.MD, cross_area) * DLS_interp * velocity**2 # Velocity term\n",
    "#     acc_term = 12/231*clc.pipe_density * get_area(s, clc.MD, cross_area) * acceleration # Acceleration term\n",
    "#     w_c = np.sqrt((F * DLS_interp + bw_pipe_interp * n_z_interp - vel_term)**2 + (bw_pipe_interp * b_z_interp)**2)\n",
    "#     return -(bw_pipe_interp*t_z_interp - clc.ff*w_c + fluid_interp + acc_term)\n",
    "\n",
    "def dFds(s, F, velocity, acceleration, operation):\n",
    "        cross_area = np.pi*(clc.global_od_array**2 - clc.global_id_array**2)/4\n",
    "        \n",
    "        # Interpolate the necessary values for the current s\n",
    "        DLS_interp = np.interp(s, clc.MD[:-1], clc.DLS)\n",
    "        n_z_interp = np.interp(s, clc.MD[:-1], clc.n_z)\n",
    "        b_z_interp = np.interp(s, clc.MD[:-1], clc.b_z)\n",
    "        t_z_interp = np.interp(s, clc.MD[:-1], clc.t_z)\n",
    "        bw_pipe_interp = np.interp(s, clc.MD[:-1], clc.bw_pipe)\n",
    "        fluid_interp = np.interp(s, clc.MD[:-1], fluid_force)\n",
    "\n",
    "        # Calculate the contact force with new dynamic terms\n",
    "        vel_term = 12/231*clc.pipe_density * get_area(s, clc.MD, cross_area) * velocity**2                       # Velocity term\n",
    "        acc_term = 12/231*clc.pipe_density * get_area(s, clc.MD, cross_area) * acceleration                      # Acceleration term\n",
    "        w_c = np.sqrt((F * DLS_interp + bw_pipe_interp * n_z_interp - vel_term)**2 + (bw_pipe_interp * b_z_interp)**2)\n",
    "\n",
    "        if operation == 'POOH':\n",
    "            return -bw_pipe_interp*t_z_interp + clc.ff*w_c + fluid_interp + acc_term\n",
    "        elif operation == 'RIH':\n",
    "            return -(bw_pipe_interp*t_z_interp - clc.ff*w_c + fluid_interp + acc_term)\n",
    "        elif operation == 'ROB':\n",
    "            return -(bw_pipe_interp*t_z_interp + fluid_interp)\n",
    "        else:\n",
    "            raise ValueError(\"Unknown operation type specified.\")\n",
    "        \n",
    "def dFdt(F_b, operation):\n",
    "    s_span = [clc.MD[-1], clc.MD[0]]  # Span from the end to the start\n",
    "        \n",
    "    if operation == 'POOH':\n",
    "        times = np.arange(0, clc.a3, 0.5)           # Time domain\n",
    "        vel, acc = vel_acc(times, clc)              # Computing velocity and acceleration\n",
    "        \n",
    "    elif operation == 'RIH':\n",
    "        times = np.arange(clc.a3, clc.a6, 0.5)      # Time domain\n",
    "        vel, acc = vel_acc(times, clc)              # Computing velocity and acceleration\n",
    "\n",
    "    elif operation == 'ROB':\n",
    "        times = np.arange(0, 30, 0.5)               # Time domain\n",
    "        vel, acc = (\n",
    "            np.zeros(len(times)), \n",
    "            np.zeros(len(times))\n",
    "            )                                       # Computing velocity and acceleration\n",
    "    else:\n",
    "        raise ValueError(\"Unknown operation type specified.\")\n",
    "    \n",
    "    sol = [solve_ivp(dFds, \n",
    "                    s_span, \n",
    "                    F_b, \n",
    "                    args=(vel[i], acc[i], operation), \n",
    "                    method='RK45', \n",
    "                    t_eval=np.flip(clc.MD),\n",
    "                    max_step=10,\n",
    "                    rtol=0.001,\n",
    "                    atol=0.001,\n",
    "                    dense_output=True\n",
    "                    ).y.flatten()[-1] for i,_ in enumerate(times)]\n",
    "    \n",
    "    return sol, times\n"
   ]
  },
  {
   "cell_type": "code",
   "execution_count": 11,
   "metadata": {},
   "outputs": [],
   "source": [
    "# Define parameters\n",
    "\n",
    "# spatial_domain = [clc.MD[-1], clc.MD[0]]  # Spatial domain from bottom to top of the drillstring\n",
    "# times = np.arange(37, 75, 0.5)  # Time domain from 0 to 10 seconds\n",
    "# F_initial = [0]  # Initial condition for force at the bottom\n",
    "\n",
    "# Precompute or define velocity and acceleration functions\n",
    "# vel, acc = vel_acc(times)\n",
    "# velocity, acceleration = lambda t: vel_acc(np.array([t])) # Define velocity_function and acceleration_function based on data or an equation\n",
    "\n",
    "# Time stepping solution\n",
    "hook_POOH, time_POOH = dFdt(F_b=[0], operation=\"POOH\")\n",
    "hook_RIH, time_RIH = dFdt(F_b=[0], operation=\"RIH\")\n",
    "hook_ROB, time_ROB = dFdt(F_b=[0], operation=\"ROB\")\n",
    "# hookload = [sol.y.flatten()[-1] for sol in solution]\n",
    "\n",
    "# print(\"Hookload values over time:\", hookload_over_time)"
   ]
  },
  {
   "cell_type": "code",
   "execution_count": 60,
   "metadata": {},
   "outputs": [],
   "source": [
    "hook_POOH, time_POOH = dFdt(F_b=[0], operation=\"POOH\")"
   ]
  },
  {
   "cell_type": "code",
   "execution_count": 61,
   "metadata": {},
   "outputs": [
    {
     "data": {
      "application/vnd.plotly.v1+json": {
       "config": {
        "plotlyServerURL": "https://plot.ly"
       },
       "data": [
        {
         "line": {
          "color": "blue"
         },
         "mode": "lines",
         "type": "scatter",
         "x": [
          0,
          0.5,
          1,
          1.5,
          2,
          2.5,
          3,
          3.5,
          4,
          4.5,
          5,
          5.5,
          6,
          6.5,
          7,
          7.5,
          8,
          8.5,
          9,
          9.5,
          10,
          10.5,
          11,
          11.5,
          12,
          12.5,
          13,
          13.5,
          14,
          14.5,
          15,
          15.5,
          16,
          16.5,
          17,
          17.5,
          18,
          18.5,
          19,
          19.5,
          20,
          20.5,
          21,
          21.5,
          22,
          22.5,
          23,
          23.5,
          24,
          24.5,
          25,
          25.5,
          26,
          26.5,
          27,
          27.5,
          28,
          28.5,
          29,
          29.5,
          30,
          30.5,
          31,
          31.5,
          32,
          32.5,
          33,
          33.5,
          34,
          34.5,
          35,
          35.5,
          36,
          36.5
         ],
         "y": [
          181710.13617540183,
          182048.6641993915,
          182175.99316424862,
          180502.56347648872,
          174860.1006694529,
          164834.10321144576,
          151446.7013058897,
          135004.0434006781,
          115978.90473665298,
          94415.80906004958,
          172740.33556586682,
          172740.33556586682,
          172740.33556586682,
          172740.33556586682,
          172740.33556586682,
          172740.33556586682,
          172740.33556586682,
          172740.33556586682,
          172740.33556586682,
          172740.33556586682,
          172740.33556586682,
          172740.33556586682,
          172740.33556586682,
          172740.33556586682,
          172740.33556586682,
          172740.33556586682,
          172740.33556586682,
          172740.33556586682,
          172740.33556586682,
          172740.33556586682,
          172740.33556586682,
          172740.33556586682,
          172740.33556586682,
          172740.33556586682,
          172740.33556586682,
          172740.33556586682,
          172740.33556586682,
          172740.33556586682,
          172740.33556586682,
          172740.33556586682,
          172740.33556586682,
          172740.33556586682,
          172740.33556586682,
          172740.33556586682,
          172740.33556586682,
          172740.33556586682,
          172740.33556586682,
          172740.33556586682,
          172740.33556586682,
          172740.33556586682,
          172740.33556586682,
          172740.33556586682,
          172740.33556586682,
          172740.33556586682,
          172740.33556586682,
          172740.33556586682,
          172740.33556586682,
          172740.33556586682,
          172740.33556586682,
          172740.33556586682,
          172740.33556586682,
          172740.33556586682,
          172740.33556586682,
          172740.33556586682,
          172740.33556586682,
          172740.33556586682,
          172740.33556586682,
          172740.33556586682,
          172740.33556586682,
          172740.33556586682,
          425651.89306754014,
          475235.1934451693,
          501634.05203241715,
          505807.6368680779
         ]
        }
       ],
       "layout": {
        "template": {
         "data": {
          "bar": [
           {
            "error_x": {
             "color": "#2a3f5f"
            },
            "error_y": {
             "color": "#2a3f5f"
            },
            "marker": {
             "line": {
              "color": "#E5ECF6",
              "width": 0.5
             },
             "pattern": {
              "fillmode": "overlay",
              "size": 10,
              "solidity": 0.2
             }
            },
            "type": "bar"
           }
          ],
          "barpolar": [
           {
            "marker": {
             "line": {
              "color": "#E5ECF6",
              "width": 0.5
             },
             "pattern": {
              "fillmode": "overlay",
              "size": 10,
              "solidity": 0.2
             }
            },
            "type": "barpolar"
           }
          ],
          "carpet": [
           {
            "aaxis": {
             "endlinecolor": "#2a3f5f",
             "gridcolor": "white",
             "linecolor": "white",
             "minorgridcolor": "white",
             "startlinecolor": "#2a3f5f"
            },
            "baxis": {
             "endlinecolor": "#2a3f5f",
             "gridcolor": "white",
             "linecolor": "white",
             "minorgridcolor": "white",
             "startlinecolor": "#2a3f5f"
            },
            "type": "carpet"
           }
          ],
          "choropleth": [
           {
            "colorbar": {
             "outlinewidth": 0,
             "ticks": ""
            },
            "type": "choropleth"
           }
          ],
          "contour": [
           {
            "colorbar": {
             "outlinewidth": 0,
             "ticks": ""
            },
            "colorscale": [
             [
              0,
              "#0d0887"
             ],
             [
              0.1111111111111111,
              "#46039f"
             ],
             [
              0.2222222222222222,
              "#7201a8"
             ],
             [
              0.3333333333333333,
              "#9c179e"
             ],
             [
              0.4444444444444444,
              "#bd3786"
             ],
             [
              0.5555555555555556,
              "#d8576b"
             ],
             [
              0.6666666666666666,
              "#ed7953"
             ],
             [
              0.7777777777777778,
              "#fb9f3a"
             ],
             [
              0.8888888888888888,
              "#fdca26"
             ],
             [
              1,
              "#f0f921"
             ]
            ],
            "type": "contour"
           }
          ],
          "contourcarpet": [
           {
            "colorbar": {
             "outlinewidth": 0,
             "ticks": ""
            },
            "type": "contourcarpet"
           }
          ],
          "heatmap": [
           {
            "colorbar": {
             "outlinewidth": 0,
             "ticks": ""
            },
            "colorscale": [
             [
              0,
              "#0d0887"
             ],
             [
              0.1111111111111111,
              "#46039f"
             ],
             [
              0.2222222222222222,
              "#7201a8"
             ],
             [
              0.3333333333333333,
              "#9c179e"
             ],
             [
              0.4444444444444444,
              "#bd3786"
             ],
             [
              0.5555555555555556,
              "#d8576b"
             ],
             [
              0.6666666666666666,
              "#ed7953"
             ],
             [
              0.7777777777777778,
              "#fb9f3a"
             ],
             [
              0.8888888888888888,
              "#fdca26"
             ],
             [
              1,
              "#f0f921"
             ]
            ],
            "type": "heatmap"
           }
          ],
          "heatmapgl": [
           {
            "colorbar": {
             "outlinewidth": 0,
             "ticks": ""
            },
            "colorscale": [
             [
              0,
              "#0d0887"
             ],
             [
              0.1111111111111111,
              "#46039f"
             ],
             [
              0.2222222222222222,
              "#7201a8"
             ],
             [
              0.3333333333333333,
              "#9c179e"
             ],
             [
              0.4444444444444444,
              "#bd3786"
             ],
             [
              0.5555555555555556,
              "#d8576b"
             ],
             [
              0.6666666666666666,
              "#ed7953"
             ],
             [
              0.7777777777777778,
              "#fb9f3a"
             ],
             [
              0.8888888888888888,
              "#fdca26"
             ],
             [
              1,
              "#f0f921"
             ]
            ],
            "type": "heatmapgl"
           }
          ],
          "histogram": [
           {
            "marker": {
             "pattern": {
              "fillmode": "overlay",
              "size": 10,
              "solidity": 0.2
             }
            },
            "type": "histogram"
           }
          ],
          "histogram2d": [
           {
            "colorbar": {
             "outlinewidth": 0,
             "ticks": ""
            },
            "colorscale": [
             [
              0,
              "#0d0887"
             ],
             [
              0.1111111111111111,
              "#46039f"
             ],
             [
              0.2222222222222222,
              "#7201a8"
             ],
             [
              0.3333333333333333,
              "#9c179e"
             ],
             [
              0.4444444444444444,
              "#bd3786"
             ],
             [
              0.5555555555555556,
              "#d8576b"
             ],
             [
              0.6666666666666666,
              "#ed7953"
             ],
             [
              0.7777777777777778,
              "#fb9f3a"
             ],
             [
              0.8888888888888888,
              "#fdca26"
             ],
             [
              1,
              "#f0f921"
             ]
            ],
            "type": "histogram2d"
           }
          ],
          "histogram2dcontour": [
           {
            "colorbar": {
             "outlinewidth": 0,
             "ticks": ""
            },
            "colorscale": [
             [
              0,
              "#0d0887"
             ],
             [
              0.1111111111111111,
              "#46039f"
             ],
             [
              0.2222222222222222,
              "#7201a8"
             ],
             [
              0.3333333333333333,
              "#9c179e"
             ],
             [
              0.4444444444444444,
              "#bd3786"
             ],
             [
              0.5555555555555556,
              "#d8576b"
             ],
             [
              0.6666666666666666,
              "#ed7953"
             ],
             [
              0.7777777777777778,
              "#fb9f3a"
             ],
             [
              0.8888888888888888,
              "#fdca26"
             ],
             [
              1,
              "#f0f921"
             ]
            ],
            "type": "histogram2dcontour"
           }
          ],
          "mesh3d": [
           {
            "colorbar": {
             "outlinewidth": 0,
             "ticks": ""
            },
            "type": "mesh3d"
           }
          ],
          "parcoords": [
           {
            "line": {
             "colorbar": {
              "outlinewidth": 0,
              "ticks": ""
             }
            },
            "type": "parcoords"
           }
          ],
          "pie": [
           {
            "automargin": true,
            "type": "pie"
           }
          ],
          "scatter": [
           {
            "fillpattern": {
             "fillmode": "overlay",
             "size": 10,
             "solidity": 0.2
            },
            "type": "scatter"
           }
          ],
          "scatter3d": [
           {
            "line": {
             "colorbar": {
              "outlinewidth": 0,
              "ticks": ""
             }
            },
            "marker": {
             "colorbar": {
              "outlinewidth": 0,
              "ticks": ""
             }
            },
            "type": "scatter3d"
           }
          ],
          "scattercarpet": [
           {
            "marker": {
             "colorbar": {
              "outlinewidth": 0,
              "ticks": ""
             }
            },
            "type": "scattercarpet"
           }
          ],
          "scattergeo": [
           {
            "marker": {
             "colorbar": {
              "outlinewidth": 0,
              "ticks": ""
             }
            },
            "type": "scattergeo"
           }
          ],
          "scattergl": [
           {
            "marker": {
             "colorbar": {
              "outlinewidth": 0,
              "ticks": ""
             }
            },
            "type": "scattergl"
           }
          ],
          "scattermapbox": [
           {
            "marker": {
             "colorbar": {
              "outlinewidth": 0,
              "ticks": ""
             }
            },
            "type": "scattermapbox"
           }
          ],
          "scatterpolar": [
           {
            "marker": {
             "colorbar": {
              "outlinewidth": 0,
              "ticks": ""
             }
            },
            "type": "scatterpolar"
           }
          ],
          "scatterpolargl": [
           {
            "marker": {
             "colorbar": {
              "outlinewidth": 0,
              "ticks": ""
             }
            },
            "type": "scatterpolargl"
           }
          ],
          "scatterternary": [
           {
            "marker": {
             "colorbar": {
              "outlinewidth": 0,
              "ticks": ""
             }
            },
            "type": "scatterternary"
           }
          ],
          "surface": [
           {
            "colorbar": {
             "outlinewidth": 0,
             "ticks": ""
            },
            "colorscale": [
             [
              0,
              "#0d0887"
             ],
             [
              0.1111111111111111,
              "#46039f"
             ],
             [
              0.2222222222222222,
              "#7201a8"
             ],
             [
              0.3333333333333333,
              "#9c179e"
             ],
             [
              0.4444444444444444,
              "#bd3786"
             ],
             [
              0.5555555555555556,
              "#d8576b"
             ],
             [
              0.6666666666666666,
              "#ed7953"
             ],
             [
              0.7777777777777778,
              "#fb9f3a"
             ],
             [
              0.8888888888888888,
              "#fdca26"
             ],
             [
              1,
              "#f0f921"
             ]
            ],
            "type": "surface"
           }
          ],
          "table": [
           {
            "cells": {
             "fill": {
              "color": "#EBF0F8"
             },
             "line": {
              "color": "white"
             }
            },
            "header": {
             "fill": {
              "color": "#C8D4E3"
             },
             "line": {
              "color": "white"
             }
            },
            "type": "table"
           }
          ]
         },
         "layout": {
          "annotationdefaults": {
           "arrowcolor": "#2a3f5f",
           "arrowhead": 0,
           "arrowwidth": 1
          },
          "autotypenumbers": "strict",
          "coloraxis": {
           "colorbar": {
            "outlinewidth": 0,
            "ticks": ""
           }
          },
          "colorscale": {
           "diverging": [
            [
             0,
             "#8e0152"
            ],
            [
             0.1,
             "#c51b7d"
            ],
            [
             0.2,
             "#de77ae"
            ],
            [
             0.3,
             "#f1b6da"
            ],
            [
             0.4,
             "#fde0ef"
            ],
            [
             0.5,
             "#f7f7f7"
            ],
            [
             0.6,
             "#e6f5d0"
            ],
            [
             0.7,
             "#b8e186"
            ],
            [
             0.8,
             "#7fbc41"
            ],
            [
             0.9,
             "#4d9221"
            ],
            [
             1,
             "#276419"
            ]
           ],
           "sequential": [
            [
             0,
             "#0d0887"
            ],
            [
             0.1111111111111111,
             "#46039f"
            ],
            [
             0.2222222222222222,
             "#7201a8"
            ],
            [
             0.3333333333333333,
             "#9c179e"
            ],
            [
             0.4444444444444444,
             "#bd3786"
            ],
            [
             0.5555555555555556,
             "#d8576b"
            ],
            [
             0.6666666666666666,
             "#ed7953"
            ],
            [
             0.7777777777777778,
             "#fb9f3a"
            ],
            [
             0.8888888888888888,
             "#fdca26"
            ],
            [
             1,
             "#f0f921"
            ]
           ],
           "sequentialminus": [
            [
             0,
             "#0d0887"
            ],
            [
             0.1111111111111111,
             "#46039f"
            ],
            [
             0.2222222222222222,
             "#7201a8"
            ],
            [
             0.3333333333333333,
             "#9c179e"
            ],
            [
             0.4444444444444444,
             "#bd3786"
            ],
            [
             0.5555555555555556,
             "#d8576b"
            ],
            [
             0.6666666666666666,
             "#ed7953"
            ],
            [
             0.7777777777777778,
             "#fb9f3a"
            ],
            [
             0.8888888888888888,
             "#fdca26"
            ],
            [
             1,
             "#f0f921"
            ]
           ]
          },
          "colorway": [
           "#636efa",
           "#EF553B",
           "#00cc96",
           "#ab63fa",
           "#FFA15A",
           "#19d3f3",
           "#FF6692",
           "#B6E880",
           "#FF97FF",
           "#FECB52"
          ],
          "font": {
           "color": "#2a3f5f"
          },
          "geo": {
           "bgcolor": "white",
           "lakecolor": "white",
           "landcolor": "#E5ECF6",
           "showlakes": true,
           "showland": true,
           "subunitcolor": "white"
          },
          "hoverlabel": {
           "align": "left"
          },
          "hovermode": "closest",
          "mapbox": {
           "style": "light"
          },
          "paper_bgcolor": "white",
          "plot_bgcolor": "#E5ECF6",
          "polar": {
           "angularaxis": {
            "gridcolor": "white",
            "linecolor": "white",
            "ticks": ""
           },
           "bgcolor": "#E5ECF6",
           "radialaxis": {
            "gridcolor": "white",
            "linecolor": "white",
            "ticks": ""
           }
          },
          "scene": {
           "xaxis": {
            "backgroundcolor": "#E5ECF6",
            "gridcolor": "white",
            "gridwidth": 2,
            "linecolor": "white",
            "showbackground": true,
            "ticks": "",
            "zerolinecolor": "white"
           },
           "yaxis": {
            "backgroundcolor": "#E5ECF6",
            "gridcolor": "white",
            "gridwidth": 2,
            "linecolor": "white",
            "showbackground": true,
            "ticks": "",
            "zerolinecolor": "white"
           },
           "zaxis": {
            "backgroundcolor": "#E5ECF6",
            "gridcolor": "white",
            "gridwidth": 2,
            "linecolor": "white",
            "showbackground": true,
            "ticks": "",
            "zerolinecolor": "white"
           }
          },
          "shapedefaults": {
           "line": {
            "color": "#2a3f5f"
           }
          },
          "ternary": {
           "aaxis": {
            "gridcolor": "white",
            "linecolor": "white",
            "ticks": ""
           },
           "baxis": {
            "gridcolor": "white",
            "linecolor": "white",
            "ticks": ""
           },
           "bgcolor": "#E5ECF6",
           "caxis": {
            "gridcolor": "white",
            "linecolor": "white",
            "ticks": ""
           }
          },
          "title": {
           "x": 0.05
          },
          "xaxis": {
           "automargin": true,
           "gridcolor": "white",
           "linecolor": "white",
           "ticks": "",
           "title": {
            "standoff": 15
           },
           "zerolinecolor": "white",
           "zerolinewidth": 2
          },
          "yaxis": {
           "automargin": true,
           "gridcolor": "white",
           "linecolor": "white",
           "ticks": "",
           "title": {
            "standoff": 15
           },
           "zerolinecolor": "white",
           "zerolinewidth": 2
          }
         }
        }
       }
      }
     },
     "metadata": {},
     "output_type": "display_data"
    }
   ],
   "source": [
    "import plotly.graph_objects as go\n",
    "\n",
    "fig = go.Figure(data=go.Scatter(\n",
    "    x=time_POOH,\n",
    "    y=hook_POOH,\n",
    "    mode=\"lines\",\n",
    "    line=dict(color=\"blue\")\n",
    "))\n",
    "\n",
    "# fig.update_layout()\n",
    "fig.show()"
   ]
  },
  {
   "cell_type": "code",
   "execution_count": 13,
   "metadata": {},
   "outputs": [
    {
     "data": {
      "application/vnd.plotly.v1+json": {
       "config": {
        "plotlyServerURL": "https://plot.ly"
       },
       "data": [
        {
         "line": {
          "color": "blue"
         },
         "mode": "lines",
         "type": "scatter",
         "x": [
          0,
          0.5,
          1,
          1.5,
          2,
          2.5,
          3,
          3.5,
          4,
          4.5,
          5,
          5.5,
          6,
          6.5,
          7,
          7.5,
          8,
          8.5,
          9,
          9.5,
          10,
          10.5,
          11,
          11.5,
          12,
          12.5,
          13,
          13.5,
          14,
          14.5,
          15,
          15.5,
          16,
          16.5,
          17,
          17.5,
          18,
          18.5,
          19,
          19.5,
          20,
          20.5,
          21,
          21.5,
          22,
          22.5,
          23,
          23.5,
          24,
          24.5,
          25,
          25.5,
          26,
          26.5,
          27,
          27.5,
          28,
          28.5,
          29,
          29.5,
          30,
          30.5,
          31,
          31.5,
          32,
          32.5,
          33,
          33.5,
          34,
          34.5,
          35,
          35.5,
          36,
          36.5
         ],
         "y": [
          409435.0087780447,
          408688.30880826956,
          407163.31234035024,
          405902.94557108113,
          407500.56770188,
          412570.8535997664,
          421347.46800820983,
          433923.5764274317,
          448906.34306879103,
          466557.3566061521,
          396112.8484090836,
          396112.8484090836,
          396112.8484090836,
          396112.8484090836,
          396112.8484090836,
          396112.8484090836,
          396112.8484090836,
          396112.8484090836,
          396112.8484090836,
          396112.8484090836,
          396112.8484090836,
          396112.8484090836,
          396112.8484090836,
          396112.8484090836,
          396112.8484090836,
          396112.8484090836,
          396112.8484090836,
          396112.8484090836,
          396112.8484090836,
          396112.8484090836,
          396112.8484090836,
          396112.8484090836,
          396112.8484090836,
          396112.8484090836,
          396112.8484090836,
          396112.8484090836,
          396112.8484090836,
          396112.8484090836,
          396112.8484090836,
          396112.8484090836,
          396112.8484090836,
          396112.8484090836,
          396112.8484090836,
          396112.8484090836,
          396112.8484090836,
          396112.8484090836,
          396112.8484090836,
          396112.8484090836,
          396112.8484090836,
          396112.8484090836,
          396112.8484090836,
          396112.8484090836,
          396112.8484090836,
          396112.8484090836,
          396112.8484090836,
          396112.8484090836,
          396112.8484090836,
          396112.8484090836,
          396112.8484090836,
          396112.8484090836,
          396112.8484090836,
          396112.8484090836,
          396112.8484090836,
          396112.8484090836,
          396112.8484090836,
          396112.8484090836,
          396112.8484090836,
          396112.8484090836,
          396112.8484090836,
          396112.8484090836,
          169847.48984350899,
          121123.41083767798,
          86606.54014417103,
          67587.71608096847
         ]
        }
       ],
       "layout": {
        "template": {
         "data": {
          "bar": [
           {
            "error_x": {
             "color": "#2a3f5f"
            },
            "error_y": {
             "color": "#2a3f5f"
            },
            "marker": {
             "line": {
              "color": "#E5ECF6",
              "width": 0.5
             },
             "pattern": {
              "fillmode": "overlay",
              "size": 10,
              "solidity": 0.2
             }
            },
            "type": "bar"
           }
          ],
          "barpolar": [
           {
            "marker": {
             "line": {
              "color": "#E5ECF6",
              "width": 0.5
             },
             "pattern": {
              "fillmode": "overlay",
              "size": 10,
              "solidity": 0.2
             }
            },
            "type": "barpolar"
           }
          ],
          "carpet": [
           {
            "aaxis": {
             "endlinecolor": "#2a3f5f",
             "gridcolor": "white",
             "linecolor": "white",
             "minorgridcolor": "white",
             "startlinecolor": "#2a3f5f"
            },
            "baxis": {
             "endlinecolor": "#2a3f5f",
             "gridcolor": "white",
             "linecolor": "white",
             "minorgridcolor": "white",
             "startlinecolor": "#2a3f5f"
            },
            "type": "carpet"
           }
          ],
          "choropleth": [
           {
            "colorbar": {
             "outlinewidth": 0,
             "ticks": ""
            },
            "type": "choropleth"
           }
          ],
          "contour": [
           {
            "colorbar": {
             "outlinewidth": 0,
             "ticks": ""
            },
            "colorscale": [
             [
              0,
              "#0d0887"
             ],
             [
              0.1111111111111111,
              "#46039f"
             ],
             [
              0.2222222222222222,
              "#7201a8"
             ],
             [
              0.3333333333333333,
              "#9c179e"
             ],
             [
              0.4444444444444444,
              "#bd3786"
             ],
             [
              0.5555555555555556,
              "#d8576b"
             ],
             [
              0.6666666666666666,
              "#ed7953"
             ],
             [
              0.7777777777777778,
              "#fb9f3a"
             ],
             [
              0.8888888888888888,
              "#fdca26"
             ],
             [
              1,
              "#f0f921"
             ]
            ],
            "type": "contour"
           }
          ],
          "contourcarpet": [
           {
            "colorbar": {
             "outlinewidth": 0,
             "ticks": ""
            },
            "type": "contourcarpet"
           }
          ],
          "heatmap": [
           {
            "colorbar": {
             "outlinewidth": 0,
             "ticks": ""
            },
            "colorscale": [
             [
              0,
              "#0d0887"
             ],
             [
              0.1111111111111111,
              "#46039f"
             ],
             [
              0.2222222222222222,
              "#7201a8"
             ],
             [
              0.3333333333333333,
              "#9c179e"
             ],
             [
              0.4444444444444444,
              "#bd3786"
             ],
             [
              0.5555555555555556,
              "#d8576b"
             ],
             [
              0.6666666666666666,
              "#ed7953"
             ],
             [
              0.7777777777777778,
              "#fb9f3a"
             ],
             [
              0.8888888888888888,
              "#fdca26"
             ],
             [
              1,
              "#f0f921"
             ]
            ],
            "type": "heatmap"
           }
          ],
          "heatmapgl": [
           {
            "colorbar": {
             "outlinewidth": 0,
             "ticks": ""
            },
            "colorscale": [
             [
              0,
              "#0d0887"
             ],
             [
              0.1111111111111111,
              "#46039f"
             ],
             [
              0.2222222222222222,
              "#7201a8"
             ],
             [
              0.3333333333333333,
              "#9c179e"
             ],
             [
              0.4444444444444444,
              "#bd3786"
             ],
             [
              0.5555555555555556,
              "#d8576b"
             ],
             [
              0.6666666666666666,
              "#ed7953"
             ],
             [
              0.7777777777777778,
              "#fb9f3a"
             ],
             [
              0.8888888888888888,
              "#fdca26"
             ],
             [
              1,
              "#f0f921"
             ]
            ],
            "type": "heatmapgl"
           }
          ],
          "histogram": [
           {
            "marker": {
             "pattern": {
              "fillmode": "overlay",
              "size": 10,
              "solidity": 0.2
             }
            },
            "type": "histogram"
           }
          ],
          "histogram2d": [
           {
            "colorbar": {
             "outlinewidth": 0,
             "ticks": ""
            },
            "colorscale": [
             [
              0,
              "#0d0887"
             ],
             [
              0.1111111111111111,
              "#46039f"
             ],
             [
              0.2222222222222222,
              "#7201a8"
             ],
             [
              0.3333333333333333,
              "#9c179e"
             ],
             [
              0.4444444444444444,
              "#bd3786"
             ],
             [
              0.5555555555555556,
              "#d8576b"
             ],
             [
              0.6666666666666666,
              "#ed7953"
             ],
             [
              0.7777777777777778,
              "#fb9f3a"
             ],
             [
              0.8888888888888888,
              "#fdca26"
             ],
             [
              1,
              "#f0f921"
             ]
            ],
            "type": "histogram2d"
           }
          ],
          "histogram2dcontour": [
           {
            "colorbar": {
             "outlinewidth": 0,
             "ticks": ""
            },
            "colorscale": [
             [
              0,
              "#0d0887"
             ],
             [
              0.1111111111111111,
              "#46039f"
             ],
             [
              0.2222222222222222,
              "#7201a8"
             ],
             [
              0.3333333333333333,
              "#9c179e"
             ],
             [
              0.4444444444444444,
              "#bd3786"
             ],
             [
              0.5555555555555556,
              "#d8576b"
             ],
             [
              0.6666666666666666,
              "#ed7953"
             ],
             [
              0.7777777777777778,
              "#fb9f3a"
             ],
             [
              0.8888888888888888,
              "#fdca26"
             ],
             [
              1,
              "#f0f921"
             ]
            ],
            "type": "histogram2dcontour"
           }
          ],
          "mesh3d": [
           {
            "colorbar": {
             "outlinewidth": 0,
             "ticks": ""
            },
            "type": "mesh3d"
           }
          ],
          "parcoords": [
           {
            "line": {
             "colorbar": {
              "outlinewidth": 0,
              "ticks": ""
             }
            },
            "type": "parcoords"
           }
          ],
          "pie": [
           {
            "automargin": true,
            "type": "pie"
           }
          ],
          "scatter": [
           {
            "fillpattern": {
             "fillmode": "overlay",
             "size": 10,
             "solidity": 0.2
            },
            "type": "scatter"
           }
          ],
          "scatter3d": [
           {
            "line": {
             "colorbar": {
              "outlinewidth": 0,
              "ticks": ""
             }
            },
            "marker": {
             "colorbar": {
              "outlinewidth": 0,
              "ticks": ""
             }
            },
            "type": "scatter3d"
           }
          ],
          "scattercarpet": [
           {
            "marker": {
             "colorbar": {
              "outlinewidth": 0,
              "ticks": ""
             }
            },
            "type": "scattercarpet"
           }
          ],
          "scattergeo": [
           {
            "marker": {
             "colorbar": {
              "outlinewidth": 0,
              "ticks": ""
             }
            },
            "type": "scattergeo"
           }
          ],
          "scattergl": [
           {
            "marker": {
             "colorbar": {
              "outlinewidth": 0,
              "ticks": ""
             }
            },
            "type": "scattergl"
           }
          ],
          "scattermapbox": [
           {
            "marker": {
             "colorbar": {
              "outlinewidth": 0,
              "ticks": ""
             }
            },
            "type": "scattermapbox"
           }
          ],
          "scatterpolar": [
           {
            "marker": {
             "colorbar": {
              "outlinewidth": 0,
              "ticks": ""
             }
            },
            "type": "scatterpolar"
           }
          ],
          "scatterpolargl": [
           {
            "marker": {
             "colorbar": {
              "outlinewidth": 0,
              "ticks": ""
             }
            },
            "type": "scatterpolargl"
           }
          ],
          "scatterternary": [
           {
            "marker": {
             "colorbar": {
              "outlinewidth": 0,
              "ticks": ""
             }
            },
            "type": "scatterternary"
           }
          ],
          "surface": [
           {
            "colorbar": {
             "outlinewidth": 0,
             "ticks": ""
            },
            "colorscale": [
             [
              0,
              "#0d0887"
             ],
             [
              0.1111111111111111,
              "#46039f"
             ],
             [
              0.2222222222222222,
              "#7201a8"
             ],
             [
              0.3333333333333333,
              "#9c179e"
             ],
             [
              0.4444444444444444,
              "#bd3786"
             ],
             [
              0.5555555555555556,
              "#d8576b"
             ],
             [
              0.6666666666666666,
              "#ed7953"
             ],
             [
              0.7777777777777778,
              "#fb9f3a"
             ],
             [
              0.8888888888888888,
              "#fdca26"
             ],
             [
              1,
              "#f0f921"
             ]
            ],
            "type": "surface"
           }
          ],
          "table": [
           {
            "cells": {
             "fill": {
              "color": "#EBF0F8"
             },
             "line": {
              "color": "white"
             }
            },
            "header": {
             "fill": {
              "color": "#C8D4E3"
             },
             "line": {
              "color": "white"
             }
            },
            "type": "table"
           }
          ]
         },
         "layout": {
          "annotationdefaults": {
           "arrowcolor": "#2a3f5f",
           "arrowhead": 0,
           "arrowwidth": 1
          },
          "autotypenumbers": "strict",
          "coloraxis": {
           "colorbar": {
            "outlinewidth": 0,
            "ticks": ""
           }
          },
          "colorscale": {
           "diverging": [
            [
             0,
             "#8e0152"
            ],
            [
             0.1,
             "#c51b7d"
            ],
            [
             0.2,
             "#de77ae"
            ],
            [
             0.3,
             "#f1b6da"
            ],
            [
             0.4,
             "#fde0ef"
            ],
            [
             0.5,
             "#f7f7f7"
            ],
            [
             0.6,
             "#e6f5d0"
            ],
            [
             0.7,
             "#b8e186"
            ],
            [
             0.8,
             "#7fbc41"
            ],
            [
             0.9,
             "#4d9221"
            ],
            [
             1,
             "#276419"
            ]
           ],
           "sequential": [
            [
             0,
             "#0d0887"
            ],
            [
             0.1111111111111111,
             "#46039f"
            ],
            [
             0.2222222222222222,
             "#7201a8"
            ],
            [
             0.3333333333333333,
             "#9c179e"
            ],
            [
             0.4444444444444444,
             "#bd3786"
            ],
            [
             0.5555555555555556,
             "#d8576b"
            ],
            [
             0.6666666666666666,
             "#ed7953"
            ],
            [
             0.7777777777777778,
             "#fb9f3a"
            ],
            [
             0.8888888888888888,
             "#fdca26"
            ],
            [
             1,
             "#f0f921"
            ]
           ],
           "sequentialminus": [
            [
             0,
             "#0d0887"
            ],
            [
             0.1111111111111111,
             "#46039f"
            ],
            [
             0.2222222222222222,
             "#7201a8"
            ],
            [
             0.3333333333333333,
             "#9c179e"
            ],
            [
             0.4444444444444444,
             "#bd3786"
            ],
            [
             0.5555555555555556,
             "#d8576b"
            ],
            [
             0.6666666666666666,
             "#ed7953"
            ],
            [
             0.7777777777777778,
             "#fb9f3a"
            ],
            [
             0.8888888888888888,
             "#fdca26"
            ],
            [
             1,
             "#f0f921"
            ]
           ]
          },
          "colorway": [
           "#636efa",
           "#EF553B",
           "#00cc96",
           "#ab63fa",
           "#FFA15A",
           "#19d3f3",
           "#FF6692",
           "#B6E880",
           "#FF97FF",
           "#FECB52"
          ],
          "font": {
           "color": "#2a3f5f"
          },
          "geo": {
           "bgcolor": "white",
           "lakecolor": "white",
           "landcolor": "#E5ECF6",
           "showlakes": true,
           "showland": true,
           "subunitcolor": "white"
          },
          "hoverlabel": {
           "align": "left"
          },
          "hovermode": "closest",
          "mapbox": {
           "style": "light"
          },
          "paper_bgcolor": "white",
          "plot_bgcolor": "#E5ECF6",
          "polar": {
           "angularaxis": {
            "gridcolor": "white",
            "linecolor": "white",
            "ticks": ""
           },
           "bgcolor": "#E5ECF6",
           "radialaxis": {
            "gridcolor": "white",
            "linecolor": "white",
            "ticks": ""
           }
          },
          "scene": {
           "xaxis": {
            "backgroundcolor": "#E5ECF6",
            "gridcolor": "white",
            "gridwidth": 2,
            "linecolor": "white",
            "showbackground": true,
            "ticks": "",
            "zerolinecolor": "white"
           },
           "yaxis": {
            "backgroundcolor": "#E5ECF6",
            "gridcolor": "white",
            "gridwidth": 2,
            "linecolor": "white",
            "showbackground": true,
            "ticks": "",
            "zerolinecolor": "white"
           },
           "zaxis": {
            "backgroundcolor": "#E5ECF6",
            "gridcolor": "white",
            "gridwidth": 2,
            "linecolor": "white",
            "showbackground": true,
            "ticks": "",
            "zerolinecolor": "white"
           }
          },
          "shapedefaults": {
           "line": {
            "color": "#2a3f5f"
           }
          },
          "ternary": {
           "aaxis": {
            "gridcolor": "white",
            "linecolor": "white",
            "ticks": ""
           },
           "baxis": {
            "gridcolor": "white",
            "linecolor": "white",
            "ticks": ""
           },
           "bgcolor": "#E5ECF6",
           "caxis": {
            "gridcolor": "white",
            "linecolor": "white",
            "ticks": ""
           }
          },
          "title": {
           "x": 0.05
          },
          "xaxis": {
           "automargin": true,
           "gridcolor": "white",
           "linecolor": "white",
           "ticks": "",
           "title": {
            "standoff": 15
           },
           "zerolinecolor": "white",
           "zerolinewidth": 2
          },
          "yaxis": {
           "automargin": true,
           "gridcolor": "white",
           "linecolor": "white",
           "ticks": "",
           "title": {
            "standoff": 15
           },
           "zerolinecolor": "white",
           "zerolinewidth": 2
          }
         }
        }
       }
      }
     },
     "metadata": {},
     "output_type": "display_data"
    }
   ],
   "source": [
    "import plotly.graph_objects as go\n",
    "\n",
    "fig = go.Figure(data=go.Scatter(\n",
    "    x=time_POOH,\n",
    "    y=hook_POOH,\n",
    "    mode=\"lines\",\n",
    "    line=dict(color=\"blue\")\n",
    "))\n",
    "\n",
    "# fig.update_layout()\n",
    "fig.show()"
   ]
  },
  {
   "cell_type": "code",
   "execution_count": 14,
   "metadata": {},
   "outputs": [
    {
     "data": {
      "application/vnd.plotly.v1+json": {
       "config": {
        "plotlyServerURL": "https://plot.ly"
       },
       "data": [
        {
         "line": {
          "color": "blue"
         },
         "mode": "lines",
         "type": "scatter",
         "x": [
          37,
          37.5,
          38,
          38.5,
          39,
          39.5,
          40,
          40.5,
          41,
          41.5,
          42,
          42.5,
          43,
          43.5,
          44,
          44.5,
          45,
          45.5,
          46,
          46.5,
          47,
          47.5,
          48,
          48.5,
          49,
          49.5,
          50,
          50.5,
          51,
          51.5,
          52,
          52.5,
          53,
          53.5,
          54,
          54.5,
          55,
          55.5,
          56,
          56.5,
          57,
          57.5,
          58,
          58.5,
          59,
          59.5,
          60,
          60.5,
          61,
          61.5,
          62,
          62.5,
          63,
          63.5,
          64,
          64.5,
          65,
          65.5,
          66,
          66.5,
          67,
          67.5,
          68,
          68.5,
          69,
          69.5,
          70,
          70.5,
          71,
          71.5,
          72,
          72.5,
          73,
          73.5,
          74,
          74.5
         ],
         "y": [
          228978.70488200037,
          229102.77616099082,
          229378.67424382945,
          229661.74606862688,
          229829.70046479642,
          229621.3797439285,
          228809.86184827282,
          227181.77233914912,
          224415.9822548912,
          220305.3325630421,
          215552.86328837872,
          209737.21548382717,
          202630.60812909366,
          194767.1441261116,
          186227.53815129612,
          177037.50687988687,
          167204.7099807249,
          156737.45007100594,
          145638.40631612914,
          133861.8894177836,
          172740.33556586682,
          172740.33556586682,
          172740.33556586682,
          172740.33556586682,
          172740.33556586682,
          172740.33556586682,
          172740.33556586682,
          172740.33556586682,
          172740.33556586682,
          172740.33556586682,
          172740.33556586682,
          172740.33556586682,
          172740.33556586682,
          172740.33556586682,
          172740.33556586682,
          172740.33556586682,
          172740.33556586682,
          172740.33556586682,
          172740.33556586682,
          172740.33556586682,
          172740.33556586682,
          172740.33556586682,
          172740.33556586682,
          172740.33556586682,
          172740.33556586682,
          172740.33556586682,
          172740.33556586682,
          172740.33556586682,
          172740.33556586682,
          172740.33556586682,
          172740.33556586682,
          172740.33556586682,
          172740.33556586682,
          172740.33556586682,
          172740.33556586682,
          172740.33556586682,
          172740.33556586682,
          172740.33556586682,
          172740.33556586682,
          172740.33556586682,
          172740.33556586682,
          172740.33556586682,
          172740.33556586682,
          172740.33556586682,
          172740.33556586682,
          172740.33556586682,
          172740.33556586682,
          172740.33556586682,
          172740.33556586682,
          172740.33556586682,
          1929.9343181323964,
          40776.338617224304,
          72477.9786456557,
          96593.90503656153,
          112759.26493296685,
          118278.13064739994
         ]
        }
       ],
       "layout": {
        "template": {
         "data": {
          "bar": [
           {
            "error_x": {
             "color": "#2a3f5f"
            },
            "error_y": {
             "color": "#2a3f5f"
            },
            "marker": {
             "line": {
              "color": "#E5ECF6",
              "width": 0.5
             },
             "pattern": {
              "fillmode": "overlay",
              "size": 10,
              "solidity": 0.2
             }
            },
            "type": "bar"
           }
          ],
          "barpolar": [
           {
            "marker": {
             "line": {
              "color": "#E5ECF6",
              "width": 0.5
             },
             "pattern": {
              "fillmode": "overlay",
              "size": 10,
              "solidity": 0.2
             }
            },
            "type": "barpolar"
           }
          ],
          "carpet": [
           {
            "aaxis": {
             "endlinecolor": "#2a3f5f",
             "gridcolor": "white",
             "linecolor": "white",
             "minorgridcolor": "white",
             "startlinecolor": "#2a3f5f"
            },
            "baxis": {
             "endlinecolor": "#2a3f5f",
             "gridcolor": "white",
             "linecolor": "white",
             "minorgridcolor": "white",
             "startlinecolor": "#2a3f5f"
            },
            "type": "carpet"
           }
          ],
          "choropleth": [
           {
            "colorbar": {
             "outlinewidth": 0,
             "ticks": ""
            },
            "type": "choropleth"
           }
          ],
          "contour": [
           {
            "colorbar": {
             "outlinewidth": 0,
             "ticks": ""
            },
            "colorscale": [
             [
              0,
              "#0d0887"
             ],
             [
              0.1111111111111111,
              "#46039f"
             ],
             [
              0.2222222222222222,
              "#7201a8"
             ],
             [
              0.3333333333333333,
              "#9c179e"
             ],
             [
              0.4444444444444444,
              "#bd3786"
             ],
             [
              0.5555555555555556,
              "#d8576b"
             ],
             [
              0.6666666666666666,
              "#ed7953"
             ],
             [
              0.7777777777777778,
              "#fb9f3a"
             ],
             [
              0.8888888888888888,
              "#fdca26"
             ],
             [
              1,
              "#f0f921"
             ]
            ],
            "type": "contour"
           }
          ],
          "contourcarpet": [
           {
            "colorbar": {
             "outlinewidth": 0,
             "ticks": ""
            },
            "type": "contourcarpet"
           }
          ],
          "heatmap": [
           {
            "colorbar": {
             "outlinewidth": 0,
             "ticks": ""
            },
            "colorscale": [
             [
              0,
              "#0d0887"
             ],
             [
              0.1111111111111111,
              "#46039f"
             ],
             [
              0.2222222222222222,
              "#7201a8"
             ],
             [
              0.3333333333333333,
              "#9c179e"
             ],
             [
              0.4444444444444444,
              "#bd3786"
             ],
             [
              0.5555555555555556,
              "#d8576b"
             ],
             [
              0.6666666666666666,
              "#ed7953"
             ],
             [
              0.7777777777777778,
              "#fb9f3a"
             ],
             [
              0.8888888888888888,
              "#fdca26"
             ],
             [
              1,
              "#f0f921"
             ]
            ],
            "type": "heatmap"
           }
          ],
          "heatmapgl": [
           {
            "colorbar": {
             "outlinewidth": 0,
             "ticks": ""
            },
            "colorscale": [
             [
              0,
              "#0d0887"
             ],
             [
              0.1111111111111111,
              "#46039f"
             ],
             [
              0.2222222222222222,
              "#7201a8"
             ],
             [
              0.3333333333333333,
              "#9c179e"
             ],
             [
              0.4444444444444444,
              "#bd3786"
             ],
             [
              0.5555555555555556,
              "#d8576b"
             ],
             [
              0.6666666666666666,
              "#ed7953"
             ],
             [
              0.7777777777777778,
              "#fb9f3a"
             ],
             [
              0.8888888888888888,
              "#fdca26"
             ],
             [
              1,
              "#f0f921"
             ]
            ],
            "type": "heatmapgl"
           }
          ],
          "histogram": [
           {
            "marker": {
             "pattern": {
              "fillmode": "overlay",
              "size": 10,
              "solidity": 0.2
             }
            },
            "type": "histogram"
           }
          ],
          "histogram2d": [
           {
            "colorbar": {
             "outlinewidth": 0,
             "ticks": ""
            },
            "colorscale": [
             [
              0,
              "#0d0887"
             ],
             [
              0.1111111111111111,
              "#46039f"
             ],
             [
              0.2222222222222222,
              "#7201a8"
             ],
             [
              0.3333333333333333,
              "#9c179e"
             ],
             [
              0.4444444444444444,
              "#bd3786"
             ],
             [
              0.5555555555555556,
              "#d8576b"
             ],
             [
              0.6666666666666666,
              "#ed7953"
             ],
             [
              0.7777777777777778,
              "#fb9f3a"
             ],
             [
              0.8888888888888888,
              "#fdca26"
             ],
             [
              1,
              "#f0f921"
             ]
            ],
            "type": "histogram2d"
           }
          ],
          "histogram2dcontour": [
           {
            "colorbar": {
             "outlinewidth": 0,
             "ticks": ""
            },
            "colorscale": [
             [
              0,
              "#0d0887"
             ],
             [
              0.1111111111111111,
              "#46039f"
             ],
             [
              0.2222222222222222,
              "#7201a8"
             ],
             [
              0.3333333333333333,
              "#9c179e"
             ],
             [
              0.4444444444444444,
              "#bd3786"
             ],
             [
              0.5555555555555556,
              "#d8576b"
             ],
             [
              0.6666666666666666,
              "#ed7953"
             ],
             [
              0.7777777777777778,
              "#fb9f3a"
             ],
             [
              0.8888888888888888,
              "#fdca26"
             ],
             [
              1,
              "#f0f921"
             ]
            ],
            "type": "histogram2dcontour"
           }
          ],
          "mesh3d": [
           {
            "colorbar": {
             "outlinewidth": 0,
             "ticks": ""
            },
            "type": "mesh3d"
           }
          ],
          "parcoords": [
           {
            "line": {
             "colorbar": {
              "outlinewidth": 0,
              "ticks": ""
             }
            },
            "type": "parcoords"
           }
          ],
          "pie": [
           {
            "automargin": true,
            "type": "pie"
           }
          ],
          "scatter": [
           {
            "fillpattern": {
             "fillmode": "overlay",
             "size": 10,
             "solidity": 0.2
            },
            "type": "scatter"
           }
          ],
          "scatter3d": [
           {
            "line": {
             "colorbar": {
              "outlinewidth": 0,
              "ticks": ""
             }
            },
            "marker": {
             "colorbar": {
              "outlinewidth": 0,
              "ticks": ""
             }
            },
            "type": "scatter3d"
           }
          ],
          "scattercarpet": [
           {
            "marker": {
             "colorbar": {
              "outlinewidth": 0,
              "ticks": ""
             }
            },
            "type": "scattercarpet"
           }
          ],
          "scattergeo": [
           {
            "marker": {
             "colorbar": {
              "outlinewidth": 0,
              "ticks": ""
             }
            },
            "type": "scattergeo"
           }
          ],
          "scattergl": [
           {
            "marker": {
             "colorbar": {
              "outlinewidth": 0,
              "ticks": ""
             }
            },
            "type": "scattergl"
           }
          ],
          "scattermapbox": [
           {
            "marker": {
             "colorbar": {
              "outlinewidth": 0,
              "ticks": ""
             }
            },
            "type": "scattermapbox"
           }
          ],
          "scatterpolar": [
           {
            "marker": {
             "colorbar": {
              "outlinewidth": 0,
              "ticks": ""
             }
            },
            "type": "scatterpolar"
           }
          ],
          "scatterpolargl": [
           {
            "marker": {
             "colorbar": {
              "outlinewidth": 0,
              "ticks": ""
             }
            },
            "type": "scatterpolargl"
           }
          ],
          "scatterternary": [
           {
            "marker": {
             "colorbar": {
              "outlinewidth": 0,
              "ticks": ""
             }
            },
            "type": "scatterternary"
           }
          ],
          "surface": [
           {
            "colorbar": {
             "outlinewidth": 0,
             "ticks": ""
            },
            "colorscale": [
             [
              0,
              "#0d0887"
             ],
             [
              0.1111111111111111,
              "#46039f"
             ],
             [
              0.2222222222222222,
              "#7201a8"
             ],
             [
              0.3333333333333333,
              "#9c179e"
             ],
             [
              0.4444444444444444,
              "#bd3786"
             ],
             [
              0.5555555555555556,
              "#d8576b"
             ],
             [
              0.6666666666666666,
              "#ed7953"
             ],
             [
              0.7777777777777778,
              "#fb9f3a"
             ],
             [
              0.8888888888888888,
              "#fdca26"
             ],
             [
              1,
              "#f0f921"
             ]
            ],
            "type": "surface"
           }
          ],
          "table": [
           {
            "cells": {
             "fill": {
              "color": "#EBF0F8"
             },
             "line": {
              "color": "white"
             }
            },
            "header": {
             "fill": {
              "color": "#C8D4E3"
             },
             "line": {
              "color": "white"
             }
            },
            "type": "table"
           }
          ]
         },
         "layout": {
          "annotationdefaults": {
           "arrowcolor": "#2a3f5f",
           "arrowhead": 0,
           "arrowwidth": 1
          },
          "autotypenumbers": "strict",
          "coloraxis": {
           "colorbar": {
            "outlinewidth": 0,
            "ticks": ""
           }
          },
          "colorscale": {
           "diverging": [
            [
             0,
             "#8e0152"
            ],
            [
             0.1,
             "#c51b7d"
            ],
            [
             0.2,
             "#de77ae"
            ],
            [
             0.3,
             "#f1b6da"
            ],
            [
             0.4,
             "#fde0ef"
            ],
            [
             0.5,
             "#f7f7f7"
            ],
            [
             0.6,
             "#e6f5d0"
            ],
            [
             0.7,
             "#b8e186"
            ],
            [
             0.8,
             "#7fbc41"
            ],
            [
             0.9,
             "#4d9221"
            ],
            [
             1,
             "#276419"
            ]
           ],
           "sequential": [
            [
             0,
             "#0d0887"
            ],
            [
             0.1111111111111111,
             "#46039f"
            ],
            [
             0.2222222222222222,
             "#7201a8"
            ],
            [
             0.3333333333333333,
             "#9c179e"
            ],
            [
             0.4444444444444444,
             "#bd3786"
            ],
            [
             0.5555555555555556,
             "#d8576b"
            ],
            [
             0.6666666666666666,
             "#ed7953"
            ],
            [
             0.7777777777777778,
             "#fb9f3a"
            ],
            [
             0.8888888888888888,
             "#fdca26"
            ],
            [
             1,
             "#f0f921"
            ]
           ],
           "sequentialminus": [
            [
             0,
             "#0d0887"
            ],
            [
             0.1111111111111111,
             "#46039f"
            ],
            [
             0.2222222222222222,
             "#7201a8"
            ],
            [
             0.3333333333333333,
             "#9c179e"
            ],
            [
             0.4444444444444444,
             "#bd3786"
            ],
            [
             0.5555555555555556,
             "#d8576b"
            ],
            [
             0.6666666666666666,
             "#ed7953"
            ],
            [
             0.7777777777777778,
             "#fb9f3a"
            ],
            [
             0.8888888888888888,
             "#fdca26"
            ],
            [
             1,
             "#f0f921"
            ]
           ]
          },
          "colorway": [
           "#636efa",
           "#EF553B",
           "#00cc96",
           "#ab63fa",
           "#FFA15A",
           "#19d3f3",
           "#FF6692",
           "#B6E880",
           "#FF97FF",
           "#FECB52"
          ],
          "font": {
           "color": "#2a3f5f"
          },
          "geo": {
           "bgcolor": "white",
           "lakecolor": "white",
           "landcolor": "#E5ECF6",
           "showlakes": true,
           "showland": true,
           "subunitcolor": "white"
          },
          "hoverlabel": {
           "align": "left"
          },
          "hovermode": "closest",
          "mapbox": {
           "style": "light"
          },
          "paper_bgcolor": "white",
          "plot_bgcolor": "#E5ECF6",
          "polar": {
           "angularaxis": {
            "gridcolor": "white",
            "linecolor": "white",
            "ticks": ""
           },
           "bgcolor": "#E5ECF6",
           "radialaxis": {
            "gridcolor": "white",
            "linecolor": "white",
            "ticks": ""
           }
          },
          "scene": {
           "xaxis": {
            "backgroundcolor": "#E5ECF6",
            "gridcolor": "white",
            "gridwidth": 2,
            "linecolor": "white",
            "showbackground": true,
            "ticks": "",
            "zerolinecolor": "white"
           },
           "yaxis": {
            "backgroundcolor": "#E5ECF6",
            "gridcolor": "white",
            "gridwidth": 2,
            "linecolor": "white",
            "showbackground": true,
            "ticks": "",
            "zerolinecolor": "white"
           },
           "zaxis": {
            "backgroundcolor": "#E5ECF6",
            "gridcolor": "white",
            "gridwidth": 2,
            "linecolor": "white",
            "showbackground": true,
            "ticks": "",
            "zerolinecolor": "white"
           }
          },
          "shapedefaults": {
           "line": {
            "color": "#2a3f5f"
           }
          },
          "ternary": {
           "aaxis": {
            "gridcolor": "white",
            "linecolor": "white",
            "ticks": ""
           },
           "baxis": {
            "gridcolor": "white",
            "linecolor": "white",
            "ticks": ""
           },
           "bgcolor": "#E5ECF6",
           "caxis": {
            "gridcolor": "white",
            "linecolor": "white",
            "ticks": ""
           }
          },
          "title": {
           "x": 0.05
          },
          "xaxis": {
           "automargin": true,
           "gridcolor": "white",
           "linecolor": "white",
           "ticks": "",
           "title": {
            "standoff": 15
           },
           "zerolinecolor": "white",
           "zerolinewidth": 2
          },
          "yaxis": {
           "automargin": true,
           "gridcolor": "white",
           "linecolor": "white",
           "ticks": "",
           "title": {
            "standoff": 15
           },
           "zerolinecolor": "white",
           "zerolinewidth": 2
          }
         }
        }
       }
      }
     },
     "metadata": {},
     "output_type": "display_data"
    }
   ],
   "source": [
    "import plotly.graph_objects as go\n",
    "\n",
    "fig = go.Figure(data=go.Scatter(\n",
    "    x=time_RIH,\n",
    "    y=hook_RIH,\n",
    "    mode=\"lines\",\n",
    "    line=dict(color=\"blue\")\n",
    "))\n",
    "\n",
    "# fig.update_layout()\n",
    "fig.show()"
   ]
  },
  {
   "cell_type": "code",
   "execution_count": 15,
   "metadata": {},
   "outputs": [
    {
     "data": {
      "application/vnd.plotly.v1+json": {
       "config": {
        "plotlyServerURL": "https://plot.ly"
       },
       "data": [
        {
         "line": {
          "color": "blue"
         },
         "mode": "lines",
         "type": "scatter",
         "x": [
          0,
          0.5,
          1,
          1.5,
          2,
          2.5,
          3,
          3.5,
          4,
          4.5,
          5,
          5.5,
          6,
          6.5,
          7,
          7.5,
          8,
          8.5,
          9,
          9.5,
          10,
          10.5,
          11,
          11.5,
          12,
          12.5,
          13,
          13.5,
          14,
          14.5,
          15,
          15.5,
          16,
          16.5,
          17,
          17.5,
          18,
          18.5,
          19,
          19.5,
          20,
          20.5,
          21,
          21.5,
          22,
          22.5,
          23,
          23.5,
          24,
          24.5,
          25,
          25.5,
          26,
          26.5,
          27,
          27.5,
          28,
          28.5,
          29,
          29.5
         ],
         "y": [
          291231.4629546594,
          291231.4629546594,
          291231.4629546594,
          291231.4629546594,
          291231.4629546594,
          291231.4629546594,
          291231.4629546594,
          291231.4629546594,
          291231.4629546594,
          291231.4629546594,
          291231.4629546594,
          291231.4629546594,
          291231.4629546594,
          291231.4629546594,
          291231.4629546594,
          291231.4629546594,
          291231.4629546594,
          291231.4629546594,
          291231.4629546594,
          291231.4629546594,
          291231.4629546594,
          291231.4629546594,
          291231.4629546594,
          291231.4629546594,
          291231.4629546594,
          291231.4629546594,
          291231.4629546594,
          291231.4629546594,
          291231.4629546594,
          291231.4629546594,
          291231.4629546594,
          291231.4629546594,
          291231.4629546594,
          291231.4629546594,
          291231.4629546594,
          291231.4629546594,
          291231.4629546594,
          291231.4629546594,
          291231.4629546594,
          291231.4629546594,
          291231.4629546594,
          291231.4629546594,
          291231.4629546594,
          291231.4629546594,
          291231.4629546594,
          291231.4629546594,
          291231.4629546594,
          291231.4629546594,
          291231.4629546594,
          291231.4629546594,
          291231.4629546594,
          291231.4629546594,
          291231.4629546594,
          291231.4629546594,
          291231.4629546594,
          291231.4629546594,
          291231.4629546594,
          291231.4629546594,
          291231.4629546594,
          291231.4629546594
         ]
        }
       ],
       "layout": {
        "template": {
         "data": {
          "bar": [
           {
            "error_x": {
             "color": "#2a3f5f"
            },
            "error_y": {
             "color": "#2a3f5f"
            },
            "marker": {
             "line": {
              "color": "#E5ECF6",
              "width": 0.5
             },
             "pattern": {
              "fillmode": "overlay",
              "size": 10,
              "solidity": 0.2
             }
            },
            "type": "bar"
           }
          ],
          "barpolar": [
           {
            "marker": {
             "line": {
              "color": "#E5ECF6",
              "width": 0.5
             },
             "pattern": {
              "fillmode": "overlay",
              "size": 10,
              "solidity": 0.2
             }
            },
            "type": "barpolar"
           }
          ],
          "carpet": [
           {
            "aaxis": {
             "endlinecolor": "#2a3f5f",
             "gridcolor": "white",
             "linecolor": "white",
             "minorgridcolor": "white",
             "startlinecolor": "#2a3f5f"
            },
            "baxis": {
             "endlinecolor": "#2a3f5f",
             "gridcolor": "white",
             "linecolor": "white",
             "minorgridcolor": "white",
             "startlinecolor": "#2a3f5f"
            },
            "type": "carpet"
           }
          ],
          "choropleth": [
           {
            "colorbar": {
             "outlinewidth": 0,
             "ticks": ""
            },
            "type": "choropleth"
           }
          ],
          "contour": [
           {
            "colorbar": {
             "outlinewidth": 0,
             "ticks": ""
            },
            "colorscale": [
             [
              0,
              "#0d0887"
             ],
             [
              0.1111111111111111,
              "#46039f"
             ],
             [
              0.2222222222222222,
              "#7201a8"
             ],
             [
              0.3333333333333333,
              "#9c179e"
             ],
             [
              0.4444444444444444,
              "#bd3786"
             ],
             [
              0.5555555555555556,
              "#d8576b"
             ],
             [
              0.6666666666666666,
              "#ed7953"
             ],
             [
              0.7777777777777778,
              "#fb9f3a"
             ],
             [
              0.8888888888888888,
              "#fdca26"
             ],
             [
              1,
              "#f0f921"
             ]
            ],
            "type": "contour"
           }
          ],
          "contourcarpet": [
           {
            "colorbar": {
             "outlinewidth": 0,
             "ticks": ""
            },
            "type": "contourcarpet"
           }
          ],
          "heatmap": [
           {
            "colorbar": {
             "outlinewidth": 0,
             "ticks": ""
            },
            "colorscale": [
             [
              0,
              "#0d0887"
             ],
             [
              0.1111111111111111,
              "#46039f"
             ],
             [
              0.2222222222222222,
              "#7201a8"
             ],
             [
              0.3333333333333333,
              "#9c179e"
             ],
             [
              0.4444444444444444,
              "#bd3786"
             ],
             [
              0.5555555555555556,
              "#d8576b"
             ],
             [
              0.6666666666666666,
              "#ed7953"
             ],
             [
              0.7777777777777778,
              "#fb9f3a"
             ],
             [
              0.8888888888888888,
              "#fdca26"
             ],
             [
              1,
              "#f0f921"
             ]
            ],
            "type": "heatmap"
           }
          ],
          "heatmapgl": [
           {
            "colorbar": {
             "outlinewidth": 0,
             "ticks": ""
            },
            "colorscale": [
             [
              0,
              "#0d0887"
             ],
             [
              0.1111111111111111,
              "#46039f"
             ],
             [
              0.2222222222222222,
              "#7201a8"
             ],
             [
              0.3333333333333333,
              "#9c179e"
             ],
             [
              0.4444444444444444,
              "#bd3786"
             ],
             [
              0.5555555555555556,
              "#d8576b"
             ],
             [
              0.6666666666666666,
              "#ed7953"
             ],
             [
              0.7777777777777778,
              "#fb9f3a"
             ],
             [
              0.8888888888888888,
              "#fdca26"
             ],
             [
              1,
              "#f0f921"
             ]
            ],
            "type": "heatmapgl"
           }
          ],
          "histogram": [
           {
            "marker": {
             "pattern": {
              "fillmode": "overlay",
              "size": 10,
              "solidity": 0.2
             }
            },
            "type": "histogram"
           }
          ],
          "histogram2d": [
           {
            "colorbar": {
             "outlinewidth": 0,
             "ticks": ""
            },
            "colorscale": [
             [
              0,
              "#0d0887"
             ],
             [
              0.1111111111111111,
              "#46039f"
             ],
             [
              0.2222222222222222,
              "#7201a8"
             ],
             [
              0.3333333333333333,
              "#9c179e"
             ],
             [
              0.4444444444444444,
              "#bd3786"
             ],
             [
              0.5555555555555556,
              "#d8576b"
             ],
             [
              0.6666666666666666,
              "#ed7953"
             ],
             [
              0.7777777777777778,
              "#fb9f3a"
             ],
             [
              0.8888888888888888,
              "#fdca26"
             ],
             [
              1,
              "#f0f921"
             ]
            ],
            "type": "histogram2d"
           }
          ],
          "histogram2dcontour": [
           {
            "colorbar": {
             "outlinewidth": 0,
             "ticks": ""
            },
            "colorscale": [
             [
              0,
              "#0d0887"
             ],
             [
              0.1111111111111111,
              "#46039f"
             ],
             [
              0.2222222222222222,
              "#7201a8"
             ],
             [
              0.3333333333333333,
              "#9c179e"
             ],
             [
              0.4444444444444444,
              "#bd3786"
             ],
             [
              0.5555555555555556,
              "#d8576b"
             ],
             [
              0.6666666666666666,
              "#ed7953"
             ],
             [
              0.7777777777777778,
              "#fb9f3a"
             ],
             [
              0.8888888888888888,
              "#fdca26"
             ],
             [
              1,
              "#f0f921"
             ]
            ],
            "type": "histogram2dcontour"
           }
          ],
          "mesh3d": [
           {
            "colorbar": {
             "outlinewidth": 0,
             "ticks": ""
            },
            "type": "mesh3d"
           }
          ],
          "parcoords": [
           {
            "line": {
             "colorbar": {
              "outlinewidth": 0,
              "ticks": ""
             }
            },
            "type": "parcoords"
           }
          ],
          "pie": [
           {
            "automargin": true,
            "type": "pie"
           }
          ],
          "scatter": [
           {
            "fillpattern": {
             "fillmode": "overlay",
             "size": 10,
             "solidity": 0.2
            },
            "type": "scatter"
           }
          ],
          "scatter3d": [
           {
            "line": {
             "colorbar": {
              "outlinewidth": 0,
              "ticks": ""
             }
            },
            "marker": {
             "colorbar": {
              "outlinewidth": 0,
              "ticks": ""
             }
            },
            "type": "scatter3d"
           }
          ],
          "scattercarpet": [
           {
            "marker": {
             "colorbar": {
              "outlinewidth": 0,
              "ticks": ""
             }
            },
            "type": "scattercarpet"
           }
          ],
          "scattergeo": [
           {
            "marker": {
             "colorbar": {
              "outlinewidth": 0,
              "ticks": ""
             }
            },
            "type": "scattergeo"
           }
          ],
          "scattergl": [
           {
            "marker": {
             "colorbar": {
              "outlinewidth": 0,
              "ticks": ""
             }
            },
            "type": "scattergl"
           }
          ],
          "scattermapbox": [
           {
            "marker": {
             "colorbar": {
              "outlinewidth": 0,
              "ticks": ""
             }
            },
            "type": "scattermapbox"
           }
          ],
          "scatterpolar": [
           {
            "marker": {
             "colorbar": {
              "outlinewidth": 0,
              "ticks": ""
             }
            },
            "type": "scatterpolar"
           }
          ],
          "scatterpolargl": [
           {
            "marker": {
             "colorbar": {
              "outlinewidth": 0,
              "ticks": ""
             }
            },
            "type": "scatterpolargl"
           }
          ],
          "scatterternary": [
           {
            "marker": {
             "colorbar": {
              "outlinewidth": 0,
              "ticks": ""
             }
            },
            "type": "scatterternary"
           }
          ],
          "surface": [
           {
            "colorbar": {
             "outlinewidth": 0,
             "ticks": ""
            },
            "colorscale": [
             [
              0,
              "#0d0887"
             ],
             [
              0.1111111111111111,
              "#46039f"
             ],
             [
              0.2222222222222222,
              "#7201a8"
             ],
             [
              0.3333333333333333,
              "#9c179e"
             ],
             [
              0.4444444444444444,
              "#bd3786"
             ],
             [
              0.5555555555555556,
              "#d8576b"
             ],
             [
              0.6666666666666666,
              "#ed7953"
             ],
             [
              0.7777777777777778,
              "#fb9f3a"
             ],
             [
              0.8888888888888888,
              "#fdca26"
             ],
             [
              1,
              "#f0f921"
             ]
            ],
            "type": "surface"
           }
          ],
          "table": [
           {
            "cells": {
             "fill": {
              "color": "#EBF0F8"
             },
             "line": {
              "color": "white"
             }
            },
            "header": {
             "fill": {
              "color": "#C8D4E3"
             },
             "line": {
              "color": "white"
             }
            },
            "type": "table"
           }
          ]
         },
         "layout": {
          "annotationdefaults": {
           "arrowcolor": "#2a3f5f",
           "arrowhead": 0,
           "arrowwidth": 1
          },
          "autotypenumbers": "strict",
          "coloraxis": {
           "colorbar": {
            "outlinewidth": 0,
            "ticks": ""
           }
          },
          "colorscale": {
           "diverging": [
            [
             0,
             "#8e0152"
            ],
            [
             0.1,
             "#c51b7d"
            ],
            [
             0.2,
             "#de77ae"
            ],
            [
             0.3,
             "#f1b6da"
            ],
            [
             0.4,
             "#fde0ef"
            ],
            [
             0.5,
             "#f7f7f7"
            ],
            [
             0.6,
             "#e6f5d0"
            ],
            [
             0.7,
             "#b8e186"
            ],
            [
             0.8,
             "#7fbc41"
            ],
            [
             0.9,
             "#4d9221"
            ],
            [
             1,
             "#276419"
            ]
           ],
           "sequential": [
            [
             0,
             "#0d0887"
            ],
            [
             0.1111111111111111,
             "#46039f"
            ],
            [
             0.2222222222222222,
             "#7201a8"
            ],
            [
             0.3333333333333333,
             "#9c179e"
            ],
            [
             0.4444444444444444,
             "#bd3786"
            ],
            [
             0.5555555555555556,
             "#d8576b"
            ],
            [
             0.6666666666666666,
             "#ed7953"
            ],
            [
             0.7777777777777778,
             "#fb9f3a"
            ],
            [
             0.8888888888888888,
             "#fdca26"
            ],
            [
             1,
             "#f0f921"
            ]
           ],
           "sequentialminus": [
            [
             0,
             "#0d0887"
            ],
            [
             0.1111111111111111,
             "#46039f"
            ],
            [
             0.2222222222222222,
             "#7201a8"
            ],
            [
             0.3333333333333333,
             "#9c179e"
            ],
            [
             0.4444444444444444,
             "#bd3786"
            ],
            [
             0.5555555555555556,
             "#d8576b"
            ],
            [
             0.6666666666666666,
             "#ed7953"
            ],
            [
             0.7777777777777778,
             "#fb9f3a"
            ],
            [
             0.8888888888888888,
             "#fdca26"
            ],
            [
             1,
             "#f0f921"
            ]
           ]
          },
          "colorway": [
           "#636efa",
           "#EF553B",
           "#00cc96",
           "#ab63fa",
           "#FFA15A",
           "#19d3f3",
           "#FF6692",
           "#B6E880",
           "#FF97FF",
           "#FECB52"
          ],
          "font": {
           "color": "#2a3f5f"
          },
          "geo": {
           "bgcolor": "white",
           "lakecolor": "white",
           "landcolor": "#E5ECF6",
           "showlakes": true,
           "showland": true,
           "subunitcolor": "white"
          },
          "hoverlabel": {
           "align": "left"
          },
          "hovermode": "closest",
          "mapbox": {
           "style": "light"
          },
          "paper_bgcolor": "white",
          "plot_bgcolor": "#E5ECF6",
          "polar": {
           "angularaxis": {
            "gridcolor": "white",
            "linecolor": "white",
            "ticks": ""
           },
           "bgcolor": "#E5ECF6",
           "radialaxis": {
            "gridcolor": "white",
            "linecolor": "white",
            "ticks": ""
           }
          },
          "scene": {
           "xaxis": {
            "backgroundcolor": "#E5ECF6",
            "gridcolor": "white",
            "gridwidth": 2,
            "linecolor": "white",
            "showbackground": true,
            "ticks": "",
            "zerolinecolor": "white"
           },
           "yaxis": {
            "backgroundcolor": "#E5ECF6",
            "gridcolor": "white",
            "gridwidth": 2,
            "linecolor": "white",
            "showbackground": true,
            "ticks": "",
            "zerolinecolor": "white"
           },
           "zaxis": {
            "backgroundcolor": "#E5ECF6",
            "gridcolor": "white",
            "gridwidth": 2,
            "linecolor": "white",
            "showbackground": true,
            "ticks": "",
            "zerolinecolor": "white"
           }
          },
          "shapedefaults": {
           "line": {
            "color": "#2a3f5f"
           }
          },
          "ternary": {
           "aaxis": {
            "gridcolor": "white",
            "linecolor": "white",
            "ticks": ""
           },
           "baxis": {
            "gridcolor": "white",
            "linecolor": "white",
            "ticks": ""
           },
           "bgcolor": "#E5ECF6",
           "caxis": {
            "gridcolor": "white",
            "linecolor": "white",
            "ticks": ""
           }
          },
          "title": {
           "x": 0.05
          },
          "xaxis": {
           "automargin": true,
           "gridcolor": "white",
           "linecolor": "white",
           "ticks": "",
           "title": {
            "standoff": 15
           },
           "zerolinecolor": "white",
           "zerolinewidth": 2
          },
          "yaxis": {
           "automargin": true,
           "gridcolor": "white",
           "linecolor": "white",
           "ticks": "",
           "title": {
            "standoff": 15
           },
           "zerolinecolor": "white",
           "zerolinewidth": 2
          }
         }
        }
       }
      }
     },
     "metadata": {},
     "output_type": "display_data"
    }
   ],
   "source": [
    "import plotly.graph_objects as go\n",
    "\n",
    "fig = go.Figure(data=go.Scatter(\n",
    "    x=time_ROB,\n",
    "    y=hook_ROB,\n",
    "    mode=\"lines\",\n",
    "    line=dict(color=\"blue\")\n",
    "))\n",
    "\n",
    "# fig.update_layout()\n",
    "fig.show()"
   ]
  },
  {
   "cell_type": "code",
   "execution_count": null,
   "metadata": {},
   "outputs": [],
   "source": [
    "# MG"
   ]
  },
  {
   "cell_type": "code",
   "execution_count": null,
   "metadata": {},
   "outputs": [],
   "source": []
  },
  {
   "cell_type": "markdown",
   "metadata": {},
   "source": [
    "End Of NEW VERSION"
   ]
  },
  {
   "cell_type": "code",
   "execution_count": null,
   "metadata": {},
   "outputs": [],
   "source": []
  },
  {
   "cell_type": "code",
   "execution_count": null,
   "metadata": {},
   "outputs": [],
   "source": []
  },
  {
   "cell_type": "code",
   "execution_count": null,
   "metadata": {},
   "outputs": [],
   "source": [
    "import numpy as np\n",
    "from scipy.integrate import solve_ivp\n",
    "import matplotlib.pyplot as plt\n",
    "\n",
    "# Constants\n",
    "n_elements = 100  # Number of elements in the drillpipe\n",
    "L = 1000.0  # Total length of the drillpipe in feet\n",
    "dx = L / n_elements  # Length of each segment\n",
    "g = 32.2  # Acceleration due to gravity in ft/s^2\n",
    "mu = 0.2  # Friction coefficient\n",
    "rho = 0.284  # Density of steel in lb/in^3\n",
    "A = 5.067  # Cross-sectional area of the drillpipe in in^2 (example for 5\" pipe)\n",
    "\n",
    "# Initial condition for axial forces (hypothetically zero)\n",
    "initial_forces = np.zeros(n_elements)\n",
    "\n",
    "# Define the differential equation for axial forces using vectorized operations\n",
    "def axial_force_eq(t, F):\n",
    "    dFdt = np.zeros_like(F)\n",
    "    # Vectorized calculation of the derivative\n",
    "    dFdt[1:-1] = (F[:-2] - 2 * F[1:-1] + F[2:]) / dx**2\n",
    "    # Include effects of friction and weight, vectorized\n",
    "    weight = rho * A * dx * g\n",
    "    friction = mu * weight\n",
    "    dFdt[1:-1] -= friction\n",
    "\n",
    "    # Apply boundary conditions: zero change at the ends as an example\n",
    "    dFdt[0] = dFdt[-1] = 0\n",
    "    return dFdt\n",
    "\n",
    "# Time span for the simulation\n",
    "t_span = (0, 100)  # Simulate for 10 seconds\n",
    "t_eval = np.linspace(t_span[0], t_span[1], 300)  # Time points to evaluate the solution\n",
    "\n",
    "# Solve the ODE using RK45\n",
    "solution = solve_ivp(axial_force_eq, t_span, initial_forces, method='RK45', t_eval=t_eval)\n",
    "\n",
    "# Plotting the results\n",
    "plt.figure(figsize=(10, 5))\n",
    "plt.plot(t_eval, solution.y.T)\n",
    "plt.xlabel('Time (seconds)')\n",
    "plt.ylabel('Axial Force (lbf)')\n",
    "plt.title('Axial Force Distribution in the Drillpipe Over Time')\n",
    "plt.grid(True)\n",
    "plt.show()\n"
   ]
  },
  {
   "cell_type": "code",
   "execution_count": null,
   "metadata": {},
   "outputs": [],
   "source": [
    "import numpy as np\n",
    "from scipy.integrate import solve_ivp\n",
    "import matplotlib.pyplot as plt\n",
    "from scipy.interpolate import interp1d\n",
    "\n",
    "# Constants and Parameters\n",
    "n_elements = 5\n",
    "L = 1000\n",
    "ds = L / n_elements\n",
    "w_bp = np.ones(n_elements) * 10\n",
    "alpha = np.array([0, 45, 45, 90, 90])  # angles in degrees, converted to radians later\n",
    "mu = np.ones(n_elements) * 0.2\n",
    "k = np.array([0, 2, 0, 2, 0])\n",
    "n_z = np.array([0, 1, 0, 1, 0])\n",
    "b_z = np.array([0, 1, 1, 1, 1])\n",
    "rho = np.ones(n_elements) * 65.5\n",
    "A = np.ones(n_elements) * 3.75\n",
    "\n",
    "# Convert angles to radians for computation\n",
    "phi = np.deg2rad(alpha)\n",
    "\n",
    "# Velocity and acceleration setup\n",
    "v_t = np.array([0, 1.0, 3.0, 3.0])  # Only four relevant velocity points for 20 seconds\n",
    "times_given = np.array([0, 5, 10, 15])  # Corresponding times\n",
    "\n",
    "# Create time grid for the simulation\n",
    "time_steps = np.linspace(0, 20, 200)  # More points may give a smoother result\n",
    "\n",
    "# Interpolating velocity and acceleration\n",
    "velocity_interp = interp1d(times_given, v_t, kind='cubic', fill_value=\"extrapolate\", bounds_error=False)\n",
    "dv_dt_interp = interp1d(times_given, np.gradient(v_t, times_given), kind='cubic', fill_value=\"extrapolate\", bounds_error=False)\n",
    "\n",
    "# Differential equation for axial force\n",
    "def axial_force(t, F):\n",
    "    v_t_now = velocity_interp(t)\n",
    "    dv_dt_now = dv_dt_interp(t)\n",
    "    dFdt = np.zeros_like(F)\n",
    "    \n",
    "    # Backward mode calculation for axial force\n",
    "    for i in range(n_elements - 1, 0, -1):\n",
    "        cos_phi = np.cos(phi[i])\n",
    "        term1 = w_bp[i] * cos_phi\n",
    "        term2 = mu[i] * np.sqrt((F[i-1] * k[i] + w_bp[i] * n_z[i] - rho[i] * A[i] * k[i] * v_t_now**2)**2 + (w_bp[i] * b_z[i])**2)\n",
    "        dFdt[i] = (F[i-1] - F[i]) / ds - term1 - term2 + rho[i] * A[i] * dv_dt_now\n",
    "\n",
    "    # Set boundary condition at the surface explicitly if needed\n",
    "    dFdt[0] = 0\n",
    "\n",
    "    return dFdt\n",
    "\n",
    "# Initial conditions (zero forces along the pipe)\n",
    "initial_forces = np.zeros(n_elements)\n",
    "\n",
    "# Solve the ODE\n",
    "solution = solve_ivp(axial_force, [0, 20], initial_forces, method='RK45', t_eval=time_steps)\n",
    "\n",
    "# Plotting the results\n",
    "plt.figure(figsize=(10, 5))\n",
    "plt.plot(solution.t, solution.y[0], label='Axial Force at Top')\n",
    "plt.xlabel('Time (seconds)')\n",
    "plt.ylabel('Axial Force (lbf)')\n",
    "plt.title('Axial Force Distribution at the Top of the Pipe Over Time')\n",
    "plt.legend()\n",
    "plt.grid(True)\n",
    "plt.show()\n"
   ]
  },
  {
   "cell_type": "code",
   "execution_count": null,
   "metadata": {},
   "outputs": [],
   "source": [
    "dv_dt"
   ]
  },
  {
   "cell_type": "code",
   "execution_count": null,
   "metadata": {},
   "outputs": [],
   "source": [
    "def p_drop1(rho, mu_p, tao, Q, D_o, D_i, D_w, del_L):\n",
    "    \n",
    "    # Annular section\n",
    "    P_f_an = []\n",
    "    Area_an = 2.448*(D_w**2-D_o**2)\n",
    "    v_an = Q/Area_an\n",
    "    mu_a_an = mu_p + 5*tao*(D_w-D_o)/v_an\n",
    "    N_re_an = 757*rho*v_an*(D_w-D_o)/mu_a_an\n",
    "    \n",
    "    for i in range(len(D_o)):\n",
    "        if N_re_an[i] > 2100:\n",
    "            P_f_an.append((rho**0.75*v_an[i]**1.75*mu_p**0.25)/(1396*(D_w[i]-D_o[i])**1.25)) # Turbulent flow case\n",
    "        else:\n",
    "            P_f_an.append(((mu_p*v_an[i])/(1000*(D_w[i]-D_o[i])**2) + tao/(200*(D_w[i]-D_o[i])))) # Laminar flow case\n",
    "\n",
    "    # Inner section\n",
    "    P_f_in = []\n",
    "    Area_in = 2.448*D_i**2\n",
    "    v_in = Q/Area_in\n",
    "    mu_a_in = mu_p + 6.66*tao*D_i/v_in\n",
    "    N_re_in = 928*rho*v_in*D_i/mu_a_in\n",
    "    for i in range(len(D_i)):\n",
    "        if N_re_in[i] > 2100:\n",
    "            P_f_in.append((rho**0.75*v_an[i]**1.75*mu_p**0.25)/(1800*D_i[i]**1.25)) # Turbulent flow case\n",
    "        else:\n",
    "            P_f_in.append(((mu_p*v_an[i])/(1500*(D_i[i])**2) + tao/(225*D_i[i]))) # Laminar flow case     \n",
    "    \n",
    "    return P_f_in, P_f_an, v_in, v_an"
   ]
  },
  {
   "cell_type": "code",
   "execution_count": null,
   "metadata": {},
   "outputs": [],
   "source": [
    "import numpy as np\n",
    "\n",
    "# All units converted to SI\n",
    "D = 2.5*0.0254\n",
    "D1 = 3.5*0.0254\n",
    "D2 = 5.5*0.0254\n",
    "Q = 25/264.172/60\n",
    "rho = 10*119.83\n",
    "tao_y = 5*0.4788\n",
    "m = 0.7\n",
    "K = 10/1000"
   ]
  },
  {
   "cell_type": "markdown",
   "metadata": {},
   "source": [
    "Annular section begins ::::"
   ]
  },
  {
   "cell_type": "code",
   "execution_count": null,
   "metadata": {},
   "outputs": [],
   "source": [
    "def pressure_gradient1(rho, mu_p, tao, Q, D_o, D_i, D_w):\n",
    "    # Conversion to SI\n",
    "    D_i *= 0.0254 # in to m\n",
    "    D_o *= 0.0254 # in to m\n",
    "    D_w *= 0.0254 # in to m\n",
    "    Q /= (264.172*60)  # Gallons per minute to cubic meters per second\n",
    "    rho *= 119.83  # lbm/ft^3 to kg/m^3\n",
    "    tao *= 0.4788  # psi to Pa\n",
    "    mu_p /= 1000  # cp to Pa.s\n",
    "    m = 1\n",
    "    \n",
    "    # Calculation part\n",
    "    D_hy = D_w - D_o  # Hydraulic diameter\n",
    "    Area_an = np.pi / 4 * (D_w**2 - D_o**2)\n",
    "    Area_in = np.pi / 4 * D_i**2\n",
    "    v_in = Q/Area_in\n",
    "    v_an = Q/Area_an\n",
    "    Re_a = (12**(1-m) * D_hy**m * v_an**(2-m) * rho) / (mu_p * ((2*m+1)/(3*m))**m * (1+((2*m+1)/(m+1)) * ((D_hy/(4*v_an)) * (m/(2*m+1)))**m * (tao/mu_p)))\n",
    "    # Re_a = rho*v_an*D_hy / (mu_p*(1+(D_hy/(8*v_an))*(tao/mu_p)))\n",
    "\n",
    "    a = np.where(Re_a < 2100, 24, (np.log10(m) + 3.93) / 50)\n",
    "    b = np.where(Re_a < 2100, 1, (1.75 - np.log10(m)) / 7)\n",
    "\n",
    "    fric_an = a / (Re_a**b)\n",
    "    P_f = 2 * fric_an * rho * v_an**2 / D_hy / 22620.60367  # Converting back to Field units (psi/ft)\n",
    "\n",
    "    return P_f, v_in*3.28084, v_an*3.28084"
   ]
  },
  {
   "cell_type": "code",
   "execution_count": null,
   "metadata": {},
   "outputs": [],
   "source": [
    "def P_an(rho, mu_p, tao, Q, D_o, D_i, D_w):\n",
    "    # Conversion to SI\n",
    "    D_i *= 0.0254\n",
    "    D_o *= 0.0254\n",
    "    D_w *= 0.0254\n",
    "    Q /= 264.172*60\n",
    "    rho *= 119.83\n",
    "    tao *= 0.4788\n",
    "    m = 1\n",
    "    mu_p /= 1000\n",
    "\n",
    "    # Calculation part\n",
    "    P_f_an = []\n",
    "    Area = np.pi / 4 * (D_w**2 - D_o**2)\n",
    "    v_an = Q / Area\n",
    "    gamma_an = 12 * v_an / (D_w - D_o)\n",
    "    t_initial = tao + mu_p * gamma_an**m\n",
    "    # tao_w_eff = t_initial.copy()  # Initial effective wall shear stress\n",
    "    \n",
    "    for i in range(len(D_o)):\n",
    "        tol = 1\n",
    "        tao_w_eff = [t_initial[i]]\n",
    "\n",
    "        while tol>=0.0001:\n",
    "            x = tao/tao_w_eff[-1]\n",
    "            Cc = (1-x)*(m*x/(m+1) + 1)\n",
    "            D_e = (3*m/(2*m + 1))*Cc*(D_w[i] - D_o[i])\n",
    "            gamma_e = 12*v_an[i]/D_e\n",
    "            t_final = tao + mu_p*gamma_e**m\n",
    "            tol = abs((t_final - tao_w_eff[-1])/t_final)\n",
    "            tao_w_eff.append(t_final)\n",
    "\n",
    "        N_re = 12 * rho * v_an[i]**2 / tao_w_eff[-1]\n",
    "        N = np.log(tao_w_eff[-1]) / np.log(12 * v_an[i] / (D_w[i] - D_o[i]))\n",
    "        N_crit = 3250 - 1150 * N\n",
    "        if N_crit > N_re:\n",
    "            fric_an = 24/N_re\n",
    "            P_f_an.append(2*fric_an*rho*v_an[i]**2/(D_w[i] - D_o[i])/22620.60367) # Converting back to Field units (psi/ft)\n",
    "        else:\n",
    "            P_f_an.append(777)\n",
    "\n",
    "    return P_f_an, v_an\n"
   ]
  },
  {
   "cell_type": "code",
   "execution_count": null,
   "metadata": {},
   "outputs": [],
   "source": [
    "P_f_an = []\n",
    "Area_an = np.pi/4*(D2**2-D1**2)\n",
    "v_an = Q/Area_an\n",
    "\n",
    "# Iterations\n",
    "tol = 1\n",
    "gamma_an = 12*v_an/(D2 - D1)\n",
    "t_initial_an = tao_y + K*gamma_an**m\n",
    "tao_w_eff_an = [t_initial_an]\n",
    "\n",
    "while tol>=0.0001:\n",
    "    x = tao_y/tao_w_eff_an[-1]\n",
    "    Cc = (1-x)*(m*x/(m+1) + 1)\n",
    "    D_e = (3*m/(2*m + 1))*Cc*(D2-D1)\n",
    "    gamma_e = 12*v_an/D_e\n",
    "    t_final = tao_y + K*gamma_e**m\n",
    "    tol = abs((t_final - tao_w_eff_an[-1])/t_final)\n",
    "    tao_w_eff_an.append(t_final)\n",
    "\n",
    "N_re_an = 12*rho*v_an**2/tao_w_eff_an[-1]\n",
    "N_an = np.log(tao_w_eff_an[-1])/np.log(12*v_an/(D2 - D1))\n",
    "N_crit_an = 3250 - 1150*N_an\n",
    "\n",
    "if N_crit_an > N_re_an:\n",
    "    fric_an = 24/N_re_an\n",
    "    P_f_an.append(2*fric_an*rho*v_an**2/(D2 - D1)/22620.60367) # Converting back to Field units (psi/ft)\n",
    "else:\n",
    "    P_f_an.append(777)\n",
    "    "
   ]
  },
  {
   "cell_type": "markdown",
   "metadata": {},
   "source": [
    "Inside section begins ::::"
   ]
  },
  {
   "cell_type": "code",
   "execution_count": null,
   "metadata": {},
   "outputs": [],
   "source": [
    "P_f_in = []\n",
    "Area_in = np.pi/4*D**2\n",
    "v_in = Q/Area_in\n",
    "# Iterations\n",
    "tol = 1\n",
    "gamma_in = 8*v_in/D\n",
    "t_initial_in = tao_y + K*gamma_in**m\n",
    "tao_w_eff_in = [t_initial_in]\n",
    "\n",
    "while tol>=0.0001:\n",
    "    x = tao_y/tao_w_eff_in[-1]\n",
    "    Cc = (1-x)*(2*m**2*x**2/((1+2*m)*(1+m)) + 2*m*x/(1+2*m) + 1)\n",
    "    D_e = (4*m/(3*m + 1))*Cc*(D)\n",
    "    gamma_e = 8*v_in/D_e\n",
    "    t_final = tao_y + K*gamma_e**m\n",
    "    tol = abs((t_final - tao_w_eff_in[-1])/t_final)\n",
    "    tao_w_eff_in.append(t_final)\n",
    "\n",
    "N_re_in = 8*rho*v_in**2/tao_w_eff_in[-1]\n",
    "N_in = np.log(tao_w_eff_in[-1])/np.log(8*v_in/D)\n",
    "N_crit_in = 3250 - 1150*N_in\n",
    "\n",
    "if N_crit_in > N_re_in:\n",
    "    fric_in = 16/N_re_in\n",
    "    P_f_in.append(2*fric_in*rho*v_in**2/D/22620.60367) # Converting back to Field units (psi/ft)\n",
    "else:\n",
    "    P_f_in.append(999)"
   ]
  },
  {
   "cell_type": "code",
   "execution_count": null,
   "metadata": {},
   "outputs": [],
   "source": []
  },
  {
   "cell_type": "code",
   "execution_count": null,
   "metadata": {},
   "outputs": [],
   "source": [
    "import numpy as np\n",
    "\n",
    "inc = np.array([0,0,45,45,90])\n",
    "azi = np.array([0,15,30,30,45])\n",
    "inc_rad = np.radians(inc)\n",
    "azi_rad = np.radians(azi)\n",
    "s = np.array([0,45,150,200,650])\n",
    "\n",
    "dinc = np.diff(inc_rad)\n",
    "dazi = np.diff(azi_rad)\n",
    "ds = np.diff(s)\n",
    "\n",
    "# Calculate the average of the inc and azi values at the intervals where the differences are calculated\n",
    "inc_rad_avg = (inc_rad[:-1] + inc_rad[1:]) / 2\n",
    "azi_rad_avg = (azi_rad[:-1] + azi_rad[1:]) / 2\n",
    "\n",
    "t = np.column_stack([\n",
    "    np.sin(inc_rad) * np.cos(azi_rad),\n",
    "    np.sin(inc_rad) * np.sin(azi_rad),\n",
    "    np.cos(inc_rad)\n",
    "])\n",
    "\n",
    "K = np.column_stack([\n",
    "    np.cos(inc_rad_avg) * np.cos(azi_rad_avg) * (dinc / ds) - np.sin(inc_rad_avg) * np.sin(azi_rad_avg) * (dazi / ds),\n",
    "    np.cos(inc_rad_avg) * np.sin(azi_rad_avg) * (dinc / ds) + np.sin(inc_rad_avg) * np.cos(azi_rad_avg) * (dazi / ds),\n",
    "    -np.sin(inc_rad_avg) * (dinc / ds)\n",
    "])"
   ]
  },
  {
   "cell_type": "code",
   "execution_count": null,
   "metadata": {},
   "outputs": [],
   "source": [
    "from lib.constants import *\n",
    "import numpy as np"
   ]
  },
  {
   "cell_type": "code",
   "execution_count": null,
   "metadata": {},
   "outputs": [],
   "source": [
    "clc = Calculations(depth=13000)\n",
    "P_drop_inner , P_drop_outer, v_i, v_o = p_drop1(\n",
    "    Q=250,\n",
    "    rho=clc.mud_density_ppg, \n",
    "    mu_p=clc.visc_p, \n",
    "    tao=clc.tao_y,\n",
    "    D_o=clc.global_od_array, \n",
    "    D_i=clc.global_id_array,\n",
    "    D_w=clc.global_hole_array,\n",
    "    del_L=clc.global_length_array\n",
    ")"
   ]
  },
  {
   "cell_type": "code",
   "execution_count": null,
   "metadata": {},
   "outputs": [],
   "source": [
    "clc = Calculations(depth=13000)\n",
    "P_annl, v_in, v_annl = pressure_gradient1(\n",
    "    Q=250,\n",
    "    rho=clc.mud_density_ppg, \n",
    "    mu_p=clc.visc_p, \n",
    "    tao=clc.tao_y,\n",
    "    D_o=clc.global_od_array, \n",
    "    D_i=clc.global_id_array,\n",
    "    D_w=clc.global_hole_array\n",
    ")"
   ]
  },
  {
   "cell_type": "code",
   "execution_count": null,
   "metadata": {},
   "outputs": [],
   "source": [
    "len(P_drop_outer), len(P_annl)"
   ]
  },
  {
   "cell_type": "code",
   "execution_count": null,
   "metadata": {},
   "outputs": [],
   "source": [
    "sum(P_drop_outer)/len(P_drop_outer), sum(P_annl)/len(P_annl)"
   ]
  },
  {
   "cell_type": "code",
   "execution_count": null,
   "metadata": {},
   "outputs": [],
   "source": [
    "sum(P_drop_outer), sum(P_annl)"
   ]
  },
  {
   "cell_type": "code",
   "execution_count": null,
   "metadata": {},
   "outputs": [],
   "source": [
    "sum(v_o)/len(v_o), sum(v_annl)/len(v_annl)"
   ]
  },
  {
   "cell_type": "code",
   "execution_count": null,
   "metadata": {},
   "outputs": [],
   "source": [
    "sum(v_i)/len(v_i), sum(v_in)/len(v_in)"
   ]
  },
  {
   "cell_type": "code",
   "execution_count": null,
   "metadata": {},
   "outputs": [],
   "source": [
    "P_annl"
   ]
  },
  {
   "cell_type": "code",
   "execution_count": null,
   "metadata": {},
   "outputs": [],
   "source": [
    "P_drop_outer"
   ]
  },
  {
   "cell_type": "markdown",
   "metadata": {},
   "source": [
    "Effective tension"
   ]
  },
  {
   "cell_type": "code",
   "execution_count": null,
   "metadata": {},
   "outputs": [],
   "source": [
    "# Area_o = np.pi*(clc.global_hole_array**2 - clc.global_od_array**2)/4\n",
    "Area_o = np.pi*(clc.global_od_array**2)/4\n",
    "Area_i = np.pi*(clc.global_id_array**2)/4\n",
    "C_tao_0 = (8 + 4*clc.global_eps + clc.global_eps**2)/8\n",
    "\n",
    "\n",
    "Static_part = (12/231)*(Area_i-Area_o)*clc.mud_density_ppg*clc.gravity*clc.t_z\n",
    "# Annular_part = (P_drop_outer*Area_o*clc.t_z_min)*(1+C_tao_0)\n",
    "# Annular_part = (1+C_tao_0)*P_drop_outer*Area_o\n",
    "Annular_part = (1+C_tao_0)*P_drop_outer*Area_o\n",
    "Inertial_part = (12/231)*clc.mud_density_ppg*(v_o**2*Area_o - v_i**2*Area_i)*clc.DLS*clc.n_z\n",
    "\n",
    "lin_force = -Annular_part + Inertial_part\n",
    "fluid_force = np.flip(lin_force)\n",
    "force_ave = fluid_force.sum()/len(fluid_force)\n",
    "# total_force = np.cumsum(fluid_force)\n"
   ]
  },
  {
   "cell_type": "code",
   "execution_count": null,
   "metadata": {},
   "outputs": [],
   "source": [
    "fluid_force.sum()/len(fluid_force)"
   ]
  },
  {
   "cell_type": "code",
   "execution_count": null,
   "metadata": {},
   "outputs": [],
   "source": [
    "Static_part.sum()/len(Static_part)"
   ]
  },
  {
   "cell_type": "code",
   "execution_count": null,
   "metadata": {},
   "outputs": [],
   "source": [
    "Inertial_part.sum()/len(Inertial_part)"
   ]
  },
  {
   "cell_type": "code",
   "execution_count": null,
   "metadata": {},
   "outputs": [],
   "source": [
    "Annular_part.sum()/len(Annular_part)"
   ]
  },
  {
   "cell_type": "code",
   "execution_count": null,
   "metadata": {},
   "outputs": [],
   "source": [
    "from lib.constants import Calculations\n",
    "from scipy.integrate import solve_ivp\n",
    "import numpy as np\n",
    "\n",
    "def trip_operation(F_b, ff, flowrate, length, operation='POOH'):\n",
    "    clc = Calculations(lengths=length)\n",
    "    new_force = fluid_force if flowrate != 0 else np.zeros_like(clc.MD[:-1])\n",
    "    def dFds(s, F):\n",
    "        # Interpolate the necessary values for the current s\n",
    "        DLS_interp = np.interp(s, clc.MD[:-1], clc.DLS)\n",
    "        n_z_interp = np.interp(s, clc.MD[:-1], clc.n_z)\n",
    "        b_z_interp = np.interp(s, clc.MD[:-1], clc.b_z)\n",
    "        t_z_interp = np.interp(s, clc.MD[:-1], clc.t_z)\n",
    "        bw_pipe_interp = np.interp(s, clc.MD[:-1], clc.bw_pipe)\n",
    "        fluid_interp = np.interp(s, clc.MD[:-1], new_force)\n",
    "\n",
    "        # Calculate the contact force\n",
    "        w_c = np.sqrt((F * DLS_interp + bw_pipe_interp * n_z_interp)**2 + (bw_pipe_interp * b_z_interp)**2)\n",
    "\n",
    "        if operation == 'POOH':\n",
    "            return -(bw_pipe_interp*t_z_interp + ff*w_c + fluid_interp)\n",
    "        elif operation == 'RIH':\n",
    "            return -(bw_pipe_interp*t_z_interp - ff*w_c + fluid_interp)\n",
    "        elif operation == 'ROB':\n",
    "            return -(bw_pipe_interp*t_z_interp + fluid_interp)\n",
    "        else:\n",
    "            raise ValueError(\"Unknown operation type specified.\")\n",
    "\n",
    "    s_span = [clc.MD[-1], clc.MD[0]]  # Span from the end to the start\n",
    "    solution = solve_ivp(dFds,\n",
    "                         s_span,\n",
    "                         [F_b],\n",
    "                         method='RK45',\n",
    "                         t_eval=np.flip(clc.MD),\n",
    "                         max_step=5,\n",
    "                         rtol=0.001,\n",
    "                         atol=0.001,\n",
    "                         dense_output=True\n",
    "    ) \n",
    "    \n",
    "    return solution.y.flatten()"
   ]
  },
  {
   "cell_type": "code",
   "execution_count": null,
   "metadata": {},
   "outputs": [],
   "source": [
    "ROB470 = trip_operation(F_b=0, ff=0.15, flowrate=470, length=13000, operation='ROB')[-1]\n",
    "ROB250 = trip_operation(F_b=0, ff=0.15, flowrate=250, length=13000, operation='ROB')[-1]\n",
    "ROB0 = trip_operation(F_b=0, ff=0.15, flowrate=0, length=17000, operation='ROB')[-1]"
   ]
  },
  {
   "cell_type": "code",
   "execution_count": null,
   "metadata": {},
   "outputs": [],
   "source": [
    "ROB470, ROB250, ROB0"
   ]
  },
  {
   "cell_type": "code",
   "execution_count": null,
   "metadata": {},
   "outputs": [],
   "source": [
    "import plotly.graph_objects as go\n",
    "from plotly.subplots import make_subplots\n",
    "\n",
    "fig1 = make_subplots(rows=1, cols=1)\n",
    "\n",
    "fig1.add_trace(go.Scatter(x=fluid_force, y=np.linspace(13000,0,len(fluid_force)), name='13k @ 470 gpm', line=dict(color='darkred', width=3, dash='dashdot')), row=1, col=1)\n",
    "\n",
    "# Update the layout\n",
    "\n",
    "fig1.update_layout(\n",
    "    \n",
    "    template= \"none\",\n",
    "    title='Fluid Force for Various GPM Rates',\n",
    "    title_font_size=24,\n",
    "    xaxis=dict(\n",
    "        title='Fluid Force [lbf]',\n",
    "        titlefont_size=20\n",
    "    ),\n",
    "    yaxis=dict(\n",
    "        title='Bit Depth [ft]',\n",
    "        titlefont_size=20,\n",
    "        autorange=\"reversed\"\n",
    "    ),\n",
    "    legend=dict(\n",
    "        traceorder='normal',\n",
    "        font=dict(\n",
    "            size=16,\n",
    "        )\n",
    "    ),\n",
    "    height = 600,\n",
    "    width = 1000\n",
    ")\n",
    "\n",
    "fig1.show()\n",
    "# fig.write_html(\"Plot.html\")"
   ]
  },
  {
   "cell_type": "code",
   "execution_count": null,
   "metadata": {},
   "outputs": [],
   "source": [
    "clc.DLS.tolist().index(0.008118177518585505)"
   ]
  },
  {
   "cell_type": "code",
   "execution_count": null,
   "metadata": {},
   "outputs": [],
   "source": [
    "clc.DLS[360:365]"
   ]
  },
  {
   "cell_type": "code",
   "execution_count": null,
   "metadata": {},
   "outputs": [],
   "source": [
    "clc.MD[360:370]"
   ]
  },
  {
   "cell_type": "code",
   "execution_count": null,
   "metadata": {},
   "outputs": [],
   "source": [
    "newMD = np.flip(clc.MD).tolist()"
   ]
  },
  {
   "cell_type": "code",
   "execution_count": null,
   "metadata": {},
   "outputs": [],
   "source": [
    "newMD[1], newMD[39], newMD[-65]"
   ]
  },
  {
   "cell_type": "code",
   "execution_count": null,
   "metadata": {},
   "outputs": [],
   "source": [
    "Annular_part = np.flip(Annular_part)"
   ]
  },
  {
   "cell_type": "code",
   "execution_count": null,
   "metadata": {},
   "outputs": [],
   "source": [
    "Inertial_part = np.flip(Inertial_part)"
   ]
  },
  {
   "cell_type": "code",
   "execution_count": null,
   "metadata": {},
   "outputs": [],
   "source": [
    "Annular_part"
   ]
  },
  {
   "cell_type": "code",
   "execution_count": null,
   "metadata": {},
   "outputs": [],
   "source": [
    "Annular_part[1]"
   ]
  },
  {
   "cell_type": "code",
   "execution_count": null,
   "metadata": {},
   "outputs": [],
   "source": [
    "Annular_part[39]"
   ]
  },
  {
   "cell_type": "code",
   "execution_count": null,
   "metadata": {},
   "outputs": [],
   "source": [
    "Annular_part[-65]"
   ]
  },
  {
   "cell_type": "code",
   "execution_count": null,
   "metadata": {},
   "outputs": [],
   "source": [
    "Inertial_part[1]"
   ]
  },
  {
   "cell_type": "code",
   "execution_count": null,
   "metadata": {},
   "outputs": [],
   "source": [
    "Inertial_part[39]"
   ]
  },
  {
   "cell_type": "code",
   "execution_count": null,
   "metadata": {},
   "outputs": [],
   "source": [
    "Inertial_part[-65]"
   ]
  },
  {
   "cell_type": "code",
   "execution_count": null,
   "metadata": {},
   "outputs": [],
   "source": []
  },
  {
   "cell_type": "code",
   "execution_count": null,
   "metadata": {},
   "outputs": [],
   "source": [
    "flu_250_13k = fluid_force\n",
    "\n"
   ]
  },
  {
   "cell_type": "code",
   "execution_count": null,
   "metadata": {},
   "outputs": [],
   "source": [
    "import plotly.graph_objects as go\n",
    "from plotly.subplots import make_subplots\n",
    "\n",
    "fig1 = make_subplots(rows=1, cols=1)\n",
    "\n",
    "fig1.add_trace(go.Scatter(x=flu_250_13k, y=np.linspace(13000,0,len(flu_250_13k)), name='13k @ 470 gpm', line=dict(color='darkred', width=3, dash='dashdot')), row=1, col=1)\n",
    "\n",
    "# Update the layout\n",
    "\n",
    "fig1.update_layout(\n",
    "    \n",
    "    template= \"none\",\n",
    "    title='Fluid Force for Various GPM Rates',\n",
    "    title_font_size=24,\n",
    "    xaxis=dict(\n",
    "        title='Fluid Force [lbf/ft]',\n",
    "        titlefont_size=20\n",
    "    ),\n",
    "    yaxis=dict(\n",
    "        title='MD [ft]',\n",
    "        titlefont_size=20,\n",
    "        autorange=\"reversed\"\n",
    "    ),\n",
    "    legend=dict(\n",
    "        traceorder='normal',\n",
    "        font=dict(\n",
    "            size=16,\n",
    "        )\n",
    "    ),\n",
    "    height = 600,\n",
    "    width = 1000\n",
    ")\n",
    "\n",
    "fig1.show()\n",
    "# fig.write_html(\"Plot.html\")"
   ]
  },
  {
   "cell_type": "code",
   "execution_count": null,
   "metadata": {},
   "outputs": [],
   "source": [
    "[trip_operation(F_b=0, ff=0.15, length=i, operation='POOH')[-1] for i in np.arange(12000, 18000, 100)]"
   ]
  },
  {
   "cell_type": "code",
   "execution_count": null,
   "metadata": {},
   "outputs": [],
   "source": [
    "trip_operation(F_b=0, ff=0.15, length=13000, operation='RIH')"
   ]
  },
  {
   "cell_type": "code",
   "execution_count": null,
   "metadata": {},
   "outputs": [],
   "source": [
    "trip_operation(F_b=0, ff=0.15, length=13000, operation='ROB')"
   ]
  }
 ],
 "metadata": {
  "kernelspec": {
   "display_name": "base",
   "language": "python",
   "name": "python3"
  },
  "language_info": {
   "codemirror_mode": {
    "name": "ipython",
    "version": 3
   },
   "file_extension": ".py",
   "mimetype": "text/x-python",
   "name": "python",
   "nbconvert_exporter": "python",
   "pygments_lexer": "ipython3",
   "version": "3.11.7"
  }
 },
 "nbformat": 4,
 "nbformat_minor": 2
}
